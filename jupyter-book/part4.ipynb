{
 "cells": [
  {
   "cell_type": "markdown",
   "id": "d5c6a257",
   "metadata": {
    "id": "d5c6a257"
   },
   "source": [
    "# Fine-tuning a Model on Lifting Corpus"
   ]
  },
  {
   "cell_type": "markdown",
   "id": "8486f72d",
   "metadata": {
    "id": "8486f72d"
   },
   "source": [
    "In a perfect world, we would have data that is labeled with a group type and we could use similarity techniques from there. We could then use supervised fine-tuning via methods like NLI to let the model understand the domain. Unfortunately, that isn't the case. To fine-tune on unlabeled data, we will use an unsupervised fine-tuning technique known as Masked Language Modeling (MLM).\n",
    "\n",
    "MLM basically boils down to masking (blanking out) ~15% of the tokens across out sample texts and telling the model to predict these masked words. This forces our model to learn contextual word representations in the lifting domain."
   ]
  },
  {
   "cell_type": "code",
   "execution_count": null,
   "id": "8ce400fb",
   "metadata": {
    "executionInfo": {
     "elapsed": 5968,
     "status": "ok",
     "timestamp": 1755644877528,
     "user": {
      "displayName": "Atherv Vidhate (athervv)",
      "userId": "17828530386881505425"
     },
     "user_tz": 420
    },
    "id": "8ce400fb"
   },
   "outputs": [],
   "source": [
    "import os\n",
    "import pandas as pd\n",
    "import numpy as np\n",
    "from tqdm import tqdm\n",
    "import torch\n",
    "import torch.nn.functional as F\n",
    "import torch.nn as nn\n",
    "from torch.optim import AdamW\n",
    "from torch.utils.data import DataLoader, Dataset\n",
    "from transformers import RobertaTokenizerFast, RobertaModel, RobertaForMaskedLM, get_linear_schedule_with_warmup\n",
    "from sklearn.preprocessing import StandardScaler\n",
    "from sklearn.cluster import KMeans\n",
    "from sklearn.metrics.pairwise import cosine_similarity\n",
    "\n",
    "# Load the data\n",
    "program_features = pd.read_csv('drive/MyDrive/liftingML/data/program_features.csv')\n",
    "program_features.drop(columns=['Unnamed: 0'], inplace=True)\n",
    "\n",
    "huge_data = pd.read_csv('drive/MyDrive/liftingML/data/cleaned_600k.csv')\n",
    "huge_data.drop(columns=['Unnamed: 0'], inplace=True)\n",
    "\n",
    "device = torch.device('mps' if torch.backends.mps.is_available() else 'cpu')"
   ]
  },
  {
   "cell_type": "code",
   "execution_count": 3,
   "id": "5f584acb",
   "metadata": {
    "colab": {
     "base_uri": "https://localhost:8080/",
     "height": 339,
     "referenced_widgets": [
      "b212d6b573494cb6ae68f245381a7be0",
      "c4466f2a795a42e0992c1632e88ab6b5",
      "e9a30a412d9b4122acd91cad7d862b90",
      "96351c8672714d31a50ffd57c97044d7",
      "a1490bf633dc4a4491ed8128c9db7271",
      "b7287dba086840098204cdc1ae276c29",
      "fd0d9bc975fc4ddea99ac813eb1fab16",
      "3e1001334f734d3a870ec610cd383937",
      "2c12c97b600b447db44d33d552ddcc88",
      "d9335394ab874452849ee8ba92427264",
      "eef53aa9b6a14389b97cda43da756b9d",
      "a3b9dadf5df740a2a2d02a354f7ce249",
      "7af0717d16db4b9094643e47dd22bbd1",
      "92e1c8a1e3e0488eb41eeab92468d1ef",
      "e9591fa931ef4dbda0ec1b477a9217ca",
      "6851fa6317334625b777c7798dd9c3a1",
      "1919fd96bd1f42beb56477b210f53c5e",
      "41a326ee38794444b044cf5e033acf23",
      "cfce3ec115044b19b70c60c76435874b",
      "51fd54c9f56744e083b05e0ad8a795a7",
      "9dec990790f747d8ac344877e4dc8fc7",
      "3227398e0c1f44debac6f990ed03ede4",
      "39e6a66244e04798a8a289ed4db1597d",
      "3792c94fb34f4c1d8ba407eff85a75b1",
      "1b0640de6f3f415696b850e192a41abb",
      "25a3b44c532541d7916f09001dd06d4b",
      "7995bc3ec2f94f6baef862850e884a47",
      "694a524c1a8a492eb7398f03a757dd28",
      "0d10247987954e0c9f0d3cb88a72484d",
      "0c784a6b049d4a34b0fc3887cfcdf6a4",
      "9ed2463e2b07418d9270b3d3e41cefbf",
      "b544dff49d2e4139b51e43c247604628",
      "3f09e816819f4f289e9bf09621139de0",
      "83b9932eeae941f59df8bbd79868d435",
      "b9bccbf72ab0418baa0dde26c4c433dd",
      "3fca983553a24837ab181f59db937064",
      "a982b6d1df2f4207ba3e54382e337bed",
      "ff347348a15f4e479bff6534d4e91024",
      "9745f60b18084689bf40da99ef1264b9",
      "18822608fa8848b982ad5563e2339765",
      "61329713ae24446a8fec58651c6fe8bd",
      "35de89c1417c468faef4b6baa09f19ff",
      "9593e12063ca4a6fb2d4e41aa4144dba",
      "57583968d5f7404db39eb138dc249076",
      "9943b0c3a59649bcb349f090c7580ad7",
      "8485678d3a794c62b0443ef0b8f2611d",
      "1fa49fa83f654ab4bd55dd12b61bebcc",
      "194b36ba7295445e9e7b50beacfe695e",
      "59cd1d3bb3614eef8eed5b250f27bf64",
      "579f0e92f13e43abbdde0f6c2e4b3b0c",
      "b50bfc718193477d8573dc108136d654",
      "2d3c94c131ea4811950e48f7ef920adf",
      "98f2c68ae5604ca6b6105d848fd84568",
      "f5ad456915214b809c5b9f1d6b3fd5f2",
      "572ddd66fef64fffbe09e518e82363e9",
      "8787c30ef4084014ac47f3edc3cce425",
      "4f035ec4247f41f596eee1f629c3954a",
      "688efe223cff47ea954e8cb63a5f056f",
      "4f86e7cd7dc445668ac333983adf4301",
      "12442843f9914fcfa67bc3e5c458ac3b",
      "3d706055d8104add817083dece6b150a",
      "5af297a3b6414a93b54ebfb970551889",
      "2c120561e48942d0893bbf0420d84930",
      "c2fecde7cc574878a04181fbc232b31f",
      "36bc53ced67347f4befecc63ab014184",
      "eda8e8ebecd14d6ebf1841eeb8defa09"
     ]
    },
    "executionInfo": {
     "elapsed": 14334,
     "status": "ok",
     "timestamp": 1755643160562,
     "user": {
      "displayName": "Atherv Vidhate (athervv)",
      "userId": "17828530386881505425"
     },
     "user_tz": 420
    },
    "id": "5f584acb",
    "outputId": "733443e5-73e6-43f1-d894-6df46f7bb598"
   },
   "outputs": [
    {
     "name": "stderr",
     "output_type": "stream",
     "text": [
      "/usr/local/lib/python3.12/dist-packages/huggingface_hub/utils/_auth.py:94: UserWarning: \n",
      "The secret `HF_TOKEN` does not exist in your Colab secrets.\n",
      "To authenticate with the Hugging Face Hub, create a token in your settings tab (https://huggingface.co/settings/tokens), set it as secret in your Google Colab and restart your session.\n",
      "You will be able to reuse this secret in all of your notebooks.\n",
      "Please note that authentication is recommended but still optional to access public models or datasets.\n",
      "  warnings.warn(\n"
     ]
    },
    {
     "data": {
      "application/vnd.jupyter.widget-view+json": {
       "model_id": "b212d6b573494cb6ae68f245381a7be0",
       "version_major": 2,
       "version_minor": 0
      },
      "text/plain": [
       "tokenizer_config.json:   0%|          | 0.00/25.0 [00:00<?, ?B/s]"
      ]
     },
     "metadata": {},
     "output_type": "display_data"
    },
    {
     "data": {
      "application/vnd.jupyter.widget-view+json": {
       "model_id": "a3b9dadf5df740a2a2d02a354f7ce249",
       "version_major": 2,
       "version_minor": 0
      },
      "text/plain": [
       "vocab.json: 0.00B [00:00, ?B/s]"
      ]
     },
     "metadata": {},
     "output_type": "display_data"
    },
    {
     "data": {
      "application/vnd.jupyter.widget-view+json": {
       "model_id": "39e6a66244e04798a8a289ed4db1597d",
       "version_major": 2,
       "version_minor": 0
      },
      "text/plain": [
       "merges.txt: 0.00B [00:00, ?B/s]"
      ]
     },
     "metadata": {},
     "output_type": "display_data"
    },
    {
     "data": {
      "application/vnd.jupyter.widget-view+json": {
       "model_id": "83b9932eeae941f59df8bbd79868d435",
       "version_major": 2,
       "version_minor": 0
      },
      "text/plain": [
       "tokenizer.json: 0.00B [00:00, ?B/s]"
      ]
     },
     "metadata": {},
     "output_type": "display_data"
    },
    {
     "data": {
      "application/vnd.jupyter.widget-view+json": {
       "model_id": "9943b0c3a59649bcb349f090c7580ad7",
       "version_major": 2,
       "version_minor": 0
      },
      "text/plain": [
       "config.json:   0%|          | 0.00/481 [00:00<?, ?B/s]"
      ]
     },
     "metadata": {},
     "output_type": "display_data"
    },
    {
     "data": {
      "application/vnd.jupyter.widget-view+json": {
       "model_id": "8787c30ef4084014ac47f3edc3cce425",
       "version_major": 2,
       "version_minor": 0
      },
      "text/plain": [
       "model.safetensors:   0%|          | 0.00/499M [00:00<?, ?B/s]"
      ]
     },
     "metadata": {},
     "output_type": "display_data"
    }
   ],
   "source": [
    "tokenizer = RobertaTokenizerFast.from_pretrained('FacebookAI/roberta-base')\n",
    "roberta_model = RobertaForMaskedLM.from_pretrained('FacebookAI/roberta-base')"
   ]
  },
  {
   "cell_type": "code",
   "execution_count": 4,
   "id": "c520ebf3",
   "metadata": {
    "executionInfo": {
     "elapsed": 1947,
     "status": "ok",
     "timestamp": 1755643162507,
     "user": {
      "displayName": "Atherv Vidhate (athervv)",
      "userId": "17828530386881505425"
     },
     "user_tz": 420
    },
    "id": "c520ebf3"
   },
   "outputs": [],
   "source": [
    "descriptions = program_features['description'].tolist()\n",
    "\n",
    "# Tokenizes the descroptions to be fed into the model\n",
    "inputs = tokenizer(descriptions, return_tensors='pt', max_length=512, truncation=True, padding='max_length')\n",
    "# Creates the labels we use to compare for against the masked tokens\n",
    "inputs['labels'] = inputs.input_ids.detach().clone()"
   ]
  },
  {
   "cell_type": "code",
   "execution_count": 5,
   "id": "4cd17e83",
   "metadata": {
    "executionInfo": {
     "elapsed": 203,
     "status": "ok",
     "timestamp": 1755643162713,
     "user": {
      "displayName": "Atherv Vidhate (athervv)",
      "userId": "17828530386881505425"
     },
     "user_tz": 420
    },
    "id": "4cd17e83"
   },
   "outputs": [],
   "source": [
    "# Randomly select 15% of tokens to be masked\n",
    "# (101 is the [CLS] token, 102 is the [SEP], 103 is the [MASK] token, 0 is the [PAD] token, or padding)\n",
    "# We do not want to overwrite the start, end, and padding tokens, so we cut them out\n",
    "rand = torch.rand(inputs.input_ids.shape)\n",
    "mask_arr = (rand < 0.15) * (inputs.input_ids != 101) * (inputs.input_ids != 102) * (inputs.input_ids != 0)\n",
    "\n",
    "# Get the randomly chosen tokens for each text and apply masking token\n",
    "selection = []\n",
    "for i in range(inputs.input_ids.shape[0]):\n",
    "    selection.append(\n",
    "        torch.flatten(mask_arr[i].nonzero()).tolist()\n",
    "    )\n",
    "\n",
    "for i in range(inputs.input_ids.shape[0]):\n",
    "    inputs.input_ids[i, selection[i]] = 103"
   ]
  },
  {
   "cell_type": "code",
   "execution_count": 6,
   "id": "4db1d0eb",
   "metadata": {
    "executionInfo": {
     "elapsed": 41,
     "status": "ok",
     "timestamp": 1755643162760,
     "user": {
      "displayName": "Atherv Vidhate (athervv)",
      "userId": "17828530386881505425"
     },
     "user_tz": 420
    },
    "id": "4db1d0eb"
   },
   "outputs": [],
   "source": [
    "# Custom Dataset to user in Dataloader in training\n",
    "class LiftingDataset(torch.utils.data.Dataset):\n",
    "    def __init__(self, encodings):\n",
    "      self.encodings = encodings\n",
    "\n",
    "    def __getitem__(self, idx):\n",
    "      return {key: torch.tensor(val[idx]) for key, val in self.encodings.items()}\n",
    "\n",
    "    def __len__(self):\n",
    "      return self.encodings.input_ids.shape[0]"
   ]
  },
  {
   "cell_type": "code",
   "execution_count": 7,
   "id": "f599729d",
   "metadata": {
    "colab": {
     "base_uri": "https://localhost:8080/"
    },
    "executionInfo": {
     "elapsed": 446,
     "status": "ok",
     "timestamp": 1755643163167,
     "user": {
      "displayName": "Atherv Vidhate (athervv)",
      "userId": "17828530386881505425"
     },
     "user_tz": 420
    },
    "id": "f599729d",
    "outputId": "6a716633-f3e0-487c-e5a0-8f141615f69f"
   },
   "outputs": [
    {
     "data": {
      "text/plain": [
       "RobertaForMaskedLM(\n",
       "  (roberta): RobertaModel(\n",
       "    (embeddings): RobertaEmbeddings(\n",
       "      (word_embeddings): Embedding(50265, 768, padding_idx=1)\n",
       "      (position_embeddings): Embedding(514, 768, padding_idx=1)\n",
       "      (token_type_embeddings): Embedding(1, 768)\n",
       "      (LayerNorm): LayerNorm((768,), eps=1e-05, elementwise_affine=True)\n",
       "      (dropout): Dropout(p=0.1, inplace=False)\n",
       "    )\n",
       "    (encoder): RobertaEncoder(\n",
       "      (layer): ModuleList(\n",
       "        (0-11): 12 x RobertaLayer(\n",
       "          (attention): RobertaAttention(\n",
       "            (self): RobertaSdpaSelfAttention(\n",
       "              (query): Linear(in_features=768, out_features=768, bias=True)\n",
       "              (key): Linear(in_features=768, out_features=768, bias=True)\n",
       "              (value): Linear(in_features=768, out_features=768, bias=True)\n",
       "              (dropout): Dropout(p=0.1, inplace=False)\n",
       "            )\n",
       "            (output): RobertaSelfOutput(\n",
       "              (dense): Linear(in_features=768, out_features=768, bias=True)\n",
       "              (LayerNorm): LayerNorm((768,), eps=1e-05, elementwise_affine=True)\n",
       "              (dropout): Dropout(p=0.1, inplace=False)\n",
       "            )\n",
       "          )\n",
       "          (intermediate): RobertaIntermediate(\n",
       "            (dense): Linear(in_features=768, out_features=3072, bias=True)\n",
       "            (intermediate_act_fn): GELUActivation()\n",
       "          )\n",
       "          (output): RobertaOutput(\n",
       "            (dense): Linear(in_features=3072, out_features=768, bias=True)\n",
       "            (LayerNorm): LayerNorm((768,), eps=1e-05, elementwise_affine=True)\n",
       "            (dropout): Dropout(p=0.1, inplace=False)\n",
       "          )\n",
       "        )\n",
       "      )\n",
       "    )\n",
       "  )\n",
       "  (lm_head): RobertaLMHead(\n",
       "    (dense): Linear(in_features=768, out_features=768, bias=True)\n",
       "    (layer_norm): LayerNorm((768,), eps=1e-05, elementwise_affine=True)\n",
       "    (decoder): Linear(in_features=768, out_features=50265, bias=True)\n",
       "  )\n",
       ")"
      ]
     },
     "execution_count": 7,
     "metadata": {},
     "output_type": "execute_result"
    }
   ],
   "source": [
    "dataset = LiftingDataset(inputs)\n",
    "loader = torch.utils.data.DataLoader(dataset, batch_size=16, shuffle=True)\n",
    "roberta_model.to(device)"
   ]
  },
  {
   "cell_type": "code",
   "execution_count": 8,
   "id": "7f5fd87b",
   "metadata": {
    "executionInfo": {
     "elapsed": 1,
     "status": "ok",
     "timestamp": 1755643163169,
     "user": {
      "displayName": "Atherv Vidhate (athervv)",
      "userId": "17828530386881505425"
     },
     "user_tz": 420
    },
    "id": "7f5fd87b"
   },
   "outputs": [],
   "source": [
    "# Optimizer used is Adam with weight decay, which reduces the chance of overfitting\n",
    "# An optimizer efficiently trains the model by adjusting the learning rates for each parameter on each pass\n",
    "roberta_model.train()\n",
    "optim = AdamW(roberta_model.parameters(), lr=5e-5)"
   ]
  },
  {
   "cell_type": "code",
   "execution_count": 9,
   "id": "5247a000",
   "metadata": {
    "colab": {
     "base_uri": "https://localhost:8080/"
    },
    "executionInfo": {
     "elapsed": 1052090,
     "status": "ok",
     "timestamp": 1755644215260,
     "user": {
      "displayName": "Atherv Vidhate (athervv)",
      "userId": "17828530386881505425"
     },
     "user_tz": 420
    },
    "id": "5247a000",
    "outputId": "675e3290-9c0d-43f9-ba74-3539afc98b8b"
   },
   "outputs": [
    {
     "name": "stderr",
     "output_type": "stream",
     "text": [
      "\r  0%|          | 0/165 [00:00<?, ?it/s]/tmp/ipython-input-1488655526.py:7: UserWarning: To copy construct from a tensor, it is recommended to use sourceTensor.detach().clone() or sourceTensor.detach().clone().requires_grad_(True), rather than torch.tensor(sourceTensor).\n",
      "  return {key: torch.tensor(val[idx]) for key, val in self.encodings.items()}\n",
      "Epoch 0: 100%|██████████| 165/165 [05:46<00:00,  2.10s/it, loss=0.553]\n",
      "Epoch 1: 100%|██████████| 165/165 [05:53<00:00,  2.14s/it, loss=0.0874]\n",
      "Epoch 2: 100%|██████████| 165/165 [05:52<00:00,  2.14s/it, loss=0.0645]\n"
     ]
    }
   ],
   "source": [
    "epochs = 3\n",
    "\n",
    "for epoch in range(epochs):\n",
    "    loop = tqdm(loader, leave=True)\n",
    "    for batch in loop:\n",
    "        # Initialize calculated gradients\n",
    "        optim.zero_grad()\n",
    "        # Get all tensor batches required for training\n",
    "        input_ids = batch['input_ids'].to(device)\n",
    "        attention_mask = batch['attention_mask'].to(device)\n",
    "        labels = batch['labels'].to(device)\n",
    "        # Process\n",
    "        outputs = roberta_model(input_ids, attention_mask=attention_mask,\n",
    "                        labels=labels)\n",
    "        # Extract loss\n",
    "        loss = outputs.loss\n",
    "        # Calculate loss for every parameter that needs grad update\n",
    "        loss.backward()\n",
    "        # Update parameters\n",
    "        optim.step()\n",
    "        # Progress bar\n",
    "        loop.set_description(f'Epoch {epoch}')\n",
    "        loop.set_postfix(loss=loss.item())"
   ]
  },
  {
   "cell_type": "code",
   "execution_count": 10,
   "id": "61665ea5",
   "metadata": {
    "colab": {
     "base_uri": "https://localhost:8080/"
    },
    "executionInfo": {
     "elapsed": 8103,
     "status": "ok",
     "timestamp": 1755644223375,
     "user": {
      "displayName": "Atherv Vidhate (athervv)",
      "userId": "17828530386881505425"
     },
     "user_tz": 420
    },
    "id": "61665ea5",
    "outputId": "848afe08-cd5e-4e21-8445-b3495f94323e"
   },
   "outputs": [
    {
     "data": {
      "text/plain": [
       "('./roberta_finetuned/tokenizer_config.json',\n",
       " './roberta_finetuned/special_tokens_map.json',\n",
       " './roberta_finetuned/vocab.json',\n",
       " './roberta_finetuned/merges.txt',\n",
       " './roberta_finetuned/added_tokens.json',\n",
       " './roberta_finetuned/tokenizer.json')"
      ]
     },
     "execution_count": 10,
     "metadata": {},
     "output_type": "execute_result"
    }
   ],
   "source": [
    "roberta_model.save_pretrained('drive/MyDrive/liftingML/roberta_finetuned')\n",
    "tokenizer.save_pretrained('drive/MyDrive/liftingML/roberta_finetuned')"
   ]
  },
  {
   "cell_type": "markdown",
   "id": "29a2f5a2",
   "metadata": {
    "id": "29a2f5a2"
   },
   "source": [
    "## Converting Fine-tuned Model to a Sentence Transformer"
   ]
  },
  {
   "cell_type": "code",
   "execution_count": 13,
   "id": "62357d7b",
   "metadata": {
    "colab": {
     "base_uri": "https://localhost:8080/"
    },
    "executionInfo": {
     "elapsed": 376,
     "status": "ok",
     "timestamp": 1755644567467,
     "user": {
      "displayName": "Atherv Vidhate (athervv)",
      "userId": "17828530386881505425"
     },
     "user_tz": 420
    },
    "id": "62357d7b",
    "outputId": "0ca24875-a261-4c11-9f27-ce135dbcdf5a"
   },
   "outputs": [
    {
     "name": "stderr",
     "output_type": "stream",
     "text": [
      "Some weights of RobertaModel were not initialized from the model checkpoint at ./roberta_finetuned and are newly initialized: ['pooler.dense.bias', 'pooler.dense.weight']\n",
      "You should probably TRAIN this model on a down-stream task to be able to use it for predictions and inference.\n"
     ]
    }
   ],
   "source": [
    "class CustomSentenceEmbedder:\n",
    "    def __init__(self, model_name=\"./roberta_finetuned\", device=None):\n",
    "        self.device = device or (\"cuda\" if torch.cuda.is_available() else \"cpu\")\n",
    "        self.model_name = model_name\n",
    "        self.tokenizer = RobertaTokenizerFast.from_pretrained(model_name)\n",
    "        self.model = RobertaModel.from_pretrained(model_name).to(self.device)\n",
    "        self.model.eval()\n",
    "\n",
    "    def encode(self, sentences, batch_size=32, normalize=True):\n",
    "        # Allows for single or multiple sentence inputs\n",
    "        if isinstance(sentences, str):\n",
    "            sentences = [sentences]\n",
    "\n",
    "        all_embeddings = []\n",
    "        # Divides input into batches to prevent OOM errors\n",
    "        for start in range(0, len(sentences), batch_size):\n",
    "            batch = sentences[start:start+batch_size]\n",
    "\n",
    "            encoded_input = self.tokenizer(batch, padding=True, truncation=True,\n",
    "                                           return_tensors='pt').to(self.device)\n",
    "\n",
    "            with torch.no_grad():\n",
    "                outputs = self.model(**encoded_input)\n",
    "                token_embeddings = outputs.last_hidden_state  # (batch, seq_len, hidden_dim)\n",
    "                attention_mask = encoded_input['attention_mask']\n",
    "\n",
    "                # Mean pooling\n",
    "                input_mask_expanded = attention_mask.unsqueeze(-1).expand(token_embeddings.size())\n",
    "                sum_embeddings = (token_embeddings * input_mask_expanded).sum(1) # (B, H)\n",
    "                sum_mask = attention_mask.sum(1).unsqueeze(-1) # (B, 1)\n",
    "                embeddings = sum_embeddings / sum_mask\n",
    "\n",
    "                if normalize:\n",
    "                    embeddings = F.normalize(embeddings, p=2, dim=1)\n",
    "\n",
    "                all_embeddings.append(embeddings.cpu())\n",
    "\n",
    "        return torch.cat(all_embeddings, dim=0)\n",
    "\n",
    "    def save(self, save_directory):\n",
    "        \"\"\"\n",
    "        Save the model and tokenizer to the specified directory.\n",
    "        \"\"\"\n",
    "        os.makedirs(save_directory, exist_ok=True)\n",
    "        self.model.save_pretrained(save_directory)\n",
    "        self.tokenizer.save_pretrained(save_directory)\n",
    "\n",
    "    @classmethod\n",
    "    def load(cls, load_directory, device=None):\n",
    "        \"\"\"\n",
    "        Load the model and tokenizer from the specified directory.\n",
    "        \"\"\"\n",
    "        return cls(model_name=load_directory, device=device)\n",
    "\n",
    "embedder = CustomSentenceEmbedder(device=device, model_name='./roberta_finetuned')\n"
   ]
  },
  {
   "cell_type": "code",
   "execution_count": 14,
   "id": "b1691fea",
   "metadata": {
    "executionInfo": {
     "elapsed": 61173,
     "status": "ok",
     "timestamp": 1755644642025,
     "user": {
      "displayName": "Atherv Vidhate (athervv)",
      "userId": "17828530386881505425"
     },
     "user_tz": 420
    },
    "id": "b1691fea"
   },
   "outputs": [],
   "source": [
    "texts = program_features['text'].to_list()\n",
    "BATCH_SIZE = 64\n",
    "embeddings_test = embedder.encode(texts, batch_size=BATCH_SIZE).numpy()\n",
    "\n",
    "# Add embeddings back to features dataframe\n",
    "embd_cols = [f'embd_{i}' for i in range(embeddings_test.shape[1])]\n",
    "embd_df = pd.DataFrame(embeddings_test, columns=embd_cols, index=program_features.index)\n",
    "program_features_test = program_features.copy().drop(columns=[col for col in program_features.columns if col.startswith('embd_')])\n",
    "program_features_test = pd.concat([program_features_test, embd_df], axis=1)\n",
    "\n",
    "md_cols = [\n",
    "    'reps_count', 'reps_time', 'is_rep_based',\n",
    "    'sets', 'reps_per_week', 'program_length', 'time_per_workout',\n",
    "    'intensity', 'level_beginner', 'level_novice', 'level_intermediate',\n",
    "    'level_advanced', 'goal_olympic_weightlifting',\n",
    "    'goal_muscle_&_sculpting', 'goal_bodyweight_fitness',\n",
    "    'goal_powerbuilding', 'goal_bodybuilding', 'goal_powerlifting',\n",
    "    'goal_athletics', 'equipment_at home', 'equipment_dumbbell only',\n",
    "    'equipment_full gym', 'equipment_garage gym'\n",
    "]\n"
   ]
  },
  {
   "cell_type": "code",
   "execution_count": 15,
   "id": "4bd1a962",
   "metadata": {
    "executionInfo": {
     "elapsed": 30,
     "status": "ok",
     "timestamp": 1755644642046,
     "user": {
      "displayName": "Atherv Vidhate (athervv)",
      "userId": "17828530386881505425"
     },
     "user_tz": 420
    },
    "id": "4bd1a962"
   },
   "outputs": [],
   "source": [
    "final_features_test = program_features_test[md_cols + embd_cols]"
   ]
  },
  {
   "cell_type": "code",
   "execution_count": 16,
   "id": "75946d43",
   "metadata": {
    "executionInfo": {
     "elapsed": 1,
     "status": "ok",
     "timestamp": 1755644642048,
     "user": {
      "displayName": "Atherv Vidhate (athervv)",
      "userId": "17828530386881505425"
     },
     "user_tz": 420
    },
    "id": "75946d43"
   },
   "outputs": [],
   "source": [
    "scaler = StandardScaler()\n",
    "\n",
    "# Scale for KMeans and PCA\n",
    "final_features_test_scaled = pd.DataFrame(\n",
    "    scaler.fit_transform(final_features_test),\n",
    "    columns=final_features_test.columns,\n",
    "    index=final_features_test.index\n",
    ")"
   ]
  },
  {
   "cell_type": "markdown",
   "id": "Y5YIbslWhYjo",
   "metadata": {
    "id": "Y5YIbslWhYjo"
   },
   "source": [
    "## Model Training"
   ]
  },
  {
   "cell_type": "code",
   "execution_count": 18,
   "id": "j79MlEYYhbpH",
   "metadata": {
    "executionInfo": {
     "elapsed": 497,
     "status": "ok",
     "timestamp": 1755644683545,
     "user": {
      "displayName": "Atherv Vidhate (athervv)",
      "userId": "17828530386881505425"
     },
     "user_tz": 420
    },
    "id": "j79MlEYYhbpH"
   },
   "outputs": [],
   "source": [
    "# Set up KMeans model to cluster the workout programs together\n",
    "clustering_data_test = final_features_test_scaled.copy()\n",
    "kmeans = KMeans(n_clusters=25, random_state=4)\n",
    "clustering_data_test['cluster'] = kmeans.fit_predict(clustering_data_test)"
   ]
  },
  {
   "cell_type": "code",
   "execution_count": 19,
   "id": "7u8WNCfphnOo",
   "metadata": {
    "colab": {
     "base_uri": "https://localhost:8080/"
    },
    "executionInfo": {
     "elapsed": 12,
     "status": "ok",
     "timestamp": 1755644684344,
     "user": {
      "displayName": "Atherv Vidhate (athervv)",
      "userId": "17828530386881505425"
     },
     "user_tz": 420
    },
    "id": "7u8WNCfphnOo",
    "outputId": "aa7aee15-2e66-4738-d206-f2fd484692c5"
   },
   "outputs": [
    {
     "name": "stderr",
     "output_type": "stream",
     "text": [
      "/tmp/ipython-input-48959608.py:2: SettingWithCopyWarning: \n",
      "A value is trying to be set on a copy of a slice from a DataFrame.\n",
      "Try using .loc[row_indexer,col_indexer] = value instead\n",
      "\n",
      "See the caveats in the documentation: https://pandas.pydata.org/pandas-docs/stable/user_guide/indexing.html#returning-a-view-versus-a-copy\n",
      "  final_features_test.loc[:, 'cluster'] = clustering_data_test['cluster']\n"
     ]
    }
   ],
   "source": [
    "# Add cluster back to unscaled dataset as the function needs unscaled data\n",
    "final_features_test.loc[:, 'cluster'] = clustering_data_test['cluster']"
   ]
  },
  {
   "cell_type": "code",
   "execution_count": 27,
   "id": "fEspomwPholu",
   "metadata": {
    "executionInfo": {
     "elapsed": 140,
     "status": "ok",
     "timestamp": 1755644895678,
     "user": {
      "displayName": "Atherv Vidhate (athervv)",
      "userId": "17828530386881505425"
     },
     "user_tz": 420
    },
    "id": "fEspomwPholu"
   },
   "outputs": [],
   "source": [
    "similarities_test = cosine_similarity(clustering_data_test)"
   ]
  },
  {
   "cell_type": "markdown",
   "id": "JgTDolsylLf9",
   "metadata": {
    "id": "JgTDolsylLf9"
   },
   "source": [
    "Redefining the program recommender function for use in this notebook"
   ]
  },
  {
   "cell_type": "code",
   "execution_count": 28,
   "id": "0HX6EjFqlDpO",
   "metadata": {
    "executionInfo": {
     "elapsed": 41,
     "status": "ok",
     "timestamp": 1755644897770,
     "user": {
      "displayName": "Atherv Vidhate (athervv)",
      "userId": "17828530386881505425"
     },
     "user_tz": 420
    },
    "id": "0HX6EjFqlDpO"
   },
   "outputs": [],
   "source": [
    "def find_top_n(similarity_matrix, n_programs, program, metadata, info, cluster=None, features=None):\n",
    "    \"\"\"\n",
    "    Gets the top n workout programs.\n",
    "\n",
    "    Args:\n",
    "        similarity_matrix (np.ndarray): Matrix of similarity scores between programs.\n",
    "        n_programs (int): Number of top similar programs to return.\n",
    "        program (int): Index of the program to compare against.\n",
    "        metadata (list): List of metadata column names to include in the result.\n",
    "        info (list): List of info column names to include in the result.\n",
    "\n",
    "    Returns:\n",
    "        list[pd.DataFrame]: List of DataFrames, each containing the metadata and info for a top similar program.\n",
    "    \"\"\"\n",
    "    scores = similarity_matrix[program]\n",
    "\n",
    "    if cluster:\n",
    "        mask = (features['cluster'] == cluster).values\n",
    "        scores = scores * mask\n",
    "\n",
    "    idxs = np.argsort(scores)[::-1]\n",
    "\n",
    "    # Gets the top n indices that aren't itself\n",
    "    top_n = idxs[idxs != program][:n_programs]\n",
    "    top_titles = program_features['title'][top_n]\n",
    "\n",
    "    # For each of the top n workout programs, get out only specific columns and add each DF to a list\n",
    "    progs = [huge_data[huge_data['title'] == i][metadata+info] for i in top_titles]\n",
    "    return progs\n",
    "\n",
    "def program_recommender(program, features, similarity_matrix, model=None, n_programs=5, within_cluster=False):\n",
    "    \"\"\"\n",
    "    Takes in a user's inputted program vector or existing program index\n",
    "    and computes the top n similar workout programs.\n",
    "\n",
    "    Args:\n",
    "        program (int or list): If int, the index of an existing program to use as the query.\n",
    "                               If list, a vector of numeric features followed by a string description\n",
    "                               representing a custom user program.\n",
    "        features (np.ndarray): Feature matrix of all programs (used for custom queries).\n",
    "        model (SentenceTransformer): Model used to encode text descriptions (default: global model).\n",
    "        n_programs (int): Number of similar programs to return (default: 5).\n",
    "\n",
    "    Returns:\n",
    "        list[pd.DataFrame]: List of DataFrames, each containing metadata and info for a recommended program.\n",
    "    \"\"\"\n",
    "    metadata = ['title', 'description', 'level', 'goal', 'equipment', 'program_length','time_per_workout', 'number_of_exercises']\n",
    "    info = ['week', 'day', 'exercise_name', 'sets', 'reps', 'intensity']\n",
    "\n",
    "    if (type(program) == int):\n",
    "        return find_top_n(similarity_matrix,\n",
    "                          n_programs,\n",
    "                          program,\n",
    "                          metadata,\n",
    "                          info,\n",
    "                          features['cluster'].iloc[program] if within_cluster else None,\n",
    "                          features if within_cluster else None\n",
    "        )\n",
    "    elif (type(program) == list):\n",
    "        # Encodes the user's description for the workout\n",
    "        query_embd = model.encode(program[-1])\n",
    "        query_numeric = np.array(program[:-1], dtype=np.float32)\n",
    "        # Concatenate the numeric features and the embedding\n",
    "        query_full = np.concatenate([query_numeric, query_embd.flatten()])\n",
    "\n",
    "        # Standardize the query\n",
    "        scaler = StandardScaler()\n",
    "        features_scaled = scaler.fit_transform(features.drop(columns=['cluster']))\n",
    "        query_full_scaled = (scaler.transform([query_full])[0].reshape(1, -1)) # Reshaping turns the query into a 2D array\n",
    "        cluster = int(kmeans.predict(query_full_scaled))\n",
    "\n",
    "        # Compute cosine similarity between the query and all existing (already scaled) features\n",
    "        similarities_to_query = cosine_similarity(\n",
    "            features_scaled,\n",
    "            query_full_scaled\n",
    "        ).flatten()\n",
    "\n",
    "        features_scaled = pd.concat([pd.DataFrame(features_scaled), features['cluster']], axis=1)\n",
    "\n",
    "        return find_top_n(\n",
    "            similarities_to_query.reshape(1, -1),\n",
    "            n_programs,\n",
    "            0,\n",
    "            metadata,\n",
    "            info,\n",
    "            cluster if within_cluster else None,\n",
    "            features_scaled if within_cluster else None\n",
    "        )\n",
    "\n",
    "    else:\n",
    "        raise ValueError('Value inputted is not an int or NumPy array.')"
   ]
  },
  {
   "cell_type": "code",
   "execution_count": 29,
   "id": "Pwsaqst_lAIK",
   "metadata": {
    "executionInfo": {
     "elapsed": 10,
     "status": "ok",
     "timestamp": 1755644898421,
     "user": {
      "displayName": "Atherv Vidhate (athervv)",
      "userId": "17828530386881505425"
     },
     "user_tz": 420
    },
    "id": "Pwsaqst_lAIK"
   },
   "outputs": [],
   "source": [
    "query = [10, 0, 1, 100, 400, 8, 60, 10, 1, 1, 1, 1, 0, 1, 0, 1, 1, 0, 1, 0, 0, 1, 1, 'Insane Arnold program, not for the weak. You need max intensity in every exercise. Push to failure ALWAYS.']"
   ]
  },
  {
   "cell_type": "code",
   "execution_count": 30,
   "id": "YB--Z7Hbhvn8",
   "metadata": {
    "colab": {
     "base_uri": "https://localhost:8080/"
    },
    "executionInfo": {
     "elapsed": 371,
     "status": "ok",
     "timestamp": 1755644899464,
     "user": {
      "displayName": "Atherv Vidhate (athervv)",
      "userId": "17828530386881505425"
     },
     "user_tz": 420
    },
    "id": "YB--Z7Hbhvn8",
    "outputId": "17f3478f-855f-40b3-bf40-ab96e1bde445"
   },
   "outputs": [
    {
     "name": "stderr",
     "output_type": "stream",
     "text": [
      "/usr/local/lib/python3.12/dist-packages/sklearn/utils/validation.py:2739: UserWarning: X does not have valid feature names, but StandardScaler was fitted with feature names\n",
      "  warnings.warn(\n",
      "/usr/local/lib/python3.12/dist-packages/sklearn/utils/validation.py:2739: UserWarning: X does not have valid feature names, but KMeans was fitted with feature names\n",
      "  warnings.warn(\n",
      "/tmp/ipython-input-416598771.py:70: DeprecationWarning: Conversion of an array with ndim > 0 to a scalar is deprecated, and will error in future. Ensure you extract a single element from your array before performing this operation. (Deprecated NumPy 1.25.)\n",
      "  cluster = int(kmeans.predict(query_full_scaled))\n"
     ]
    }
   ],
   "source": [
    "new = program_recommender(query, final_features_test, similarity_matrix=similarities_test, model=embedder, within_cluster=True)"
   ]
  },
  {
   "cell_type": "code",
   "execution_count": 31,
   "id": "xJY5xEzuhwjE",
   "metadata": {
    "colab": {
     "base_uri": "https://localhost:8080/"
    },
    "executionInfo": {
     "elapsed": 3,
     "status": "ok",
     "timestamp": 1755644900487,
     "user": {
      "displayName": "Atherv Vidhate (athervv)",
      "userId": "17828530386881505425"
     },
     "user_tz": 420
    },
    "id": "xJY5xEzuhwjE",
    "outputId": "9a6ddb09-571c-42f8-a5b4-cddede631a4b"
   },
   "outputs": [
    {
     "name": "stdout",
     "output_type": "stream",
     "text": [
      "========================================\n",
      "Title: building the titan\n",
      "\n",
      "Description: Get jacked - pure hypertrophy. You need to aim to up as many reps or weight every session. This is about pushing yourself to the limit.\n",
      "========================================\n",
      "\n",
      "========================================\n",
      "Title: rodrigo's - 6 day arnold split\n",
      "\n",
      "Description: This intermediate and advanced program is designed for the bodybuilder and powerlifter who wants to increase his strength and size while pushing himself to the max. Not for the faint of heart as volume is high, but highly rewarding gains. Based on the 6 day Arnold split and adjusted to my favourite exercises.\n",
      "========================================\n",
      "\n",
      "========================================\n",
      "Title: tighty by whitey\n",
      "\n",
      "Description: Designed to be difficult for beginner lifters in order to push the mind through physical struggle/failure.\n",
      "========================================\n",
      "\n",
      "========================================\n",
      "Title: godsplit\n",
      "\n",
      "Description: The purpose of this program is to put in serious work in the gym while gaining strength and size. Put in the work. Reap the Rewards.\n",
      "========================================\n",
      "\n",
      "========================================\n",
      "Title: house's strength gaining program\n",
      "\n",
      "Description: To push you to the limits and not hold back one bit\n",
      "========================================\n",
      "\n"
     ]
    }
   ],
   "source": [
    "for i in range(len(new)):\n",
    "    title = new[i]['title'].iloc[0]\n",
    "    description = new[i]['description'].iloc[0]\n",
    "    print(\"=\"*40)\n",
    "    print(f\"Title: {title}\\n\")\n",
    "    print(f\"Description: {description}\")\n",
    "    print(\"=\"*40 + \"\\n\")"
   ]
  },
  {
   "cell_type": "markdown",
   "id": "-DslLcPih1Dd",
   "metadata": {
    "id": "-DslLcPih1Dd"
   },
   "source": [
    "The overall quality of outputs has drastically increased! The fine-tuned model has successfully improved on finding similar workouts to the user's query.\n",
    "\n",
    "With the pretrained model, the \"fitness\" terminology wasn't captured and understood. On the other hand, the fine-tuned model actually picks up on unique lingo. For example, it picks up how Arnold is not just a person's name (Arnold Schwarzenegger) but a unique training split named after him. It also picks up specifically how we are looking for a intense workout regime that isn't a whole lot of fluff. It's meant for people who want to be serious about lifting."
   ]
  }
 ],
 "metadata": {
  "accelerator": "GPU",
  "colab": {
   "gpuType": "T4",
   "provenance": []
  },
  "kernelspec": {
   "display_name": "lifting",
   "language": "python",
   "name": "python3"
  },
  "language_info": {
   "codemirror_mode": {
    "name": "ipython",
    "version": 3
   },
   "file_extension": ".py",
   "mimetype": "text/x-python",
   "name": "python",
   "nbconvert_exporter": "python",
   "pygments_lexer": "ipython3",
   "version": "3.13.5"
  },
  "widgets": {
   "application/vnd.jupyter.widget-state+json": {
    "0c784a6b049d4a34b0fc3887cfcdf6a4": {
     "model_module": "@jupyter-widgets/base",
     "model_module_version": "1.2.0",
     "model_name": "LayoutModel",
     "state": {
      "_model_module": "@jupyter-widgets/base",
      "_model_module_version": "1.2.0",
      "_model_name": "LayoutModel",
      "_view_count": null,
      "_view_module": "@jupyter-widgets/base",
      "_view_module_version": "1.2.0",
      "_view_name": "LayoutView",
      "align_content": null,
      "align_items": null,
      "align_self": null,
      "border": null,
      "bottom": null,
      "display": null,
      "flex": null,
      "flex_flow": null,
      "grid_area": null,
      "grid_auto_columns": null,
      "grid_auto_flow": null,
      "grid_auto_rows": null,
      "grid_column": null,
      "grid_gap": null,
      "grid_row": null,
      "grid_template_areas": null,
      "grid_template_columns": null,
      "grid_template_rows": null,
      "height": null,
      "justify_content": null,
      "justify_items": null,
      "left": null,
      "margin": null,
      "max_height": null,
      "max_width": null,
      "min_height": null,
      "min_width": null,
      "object_fit": null,
      "object_position": null,
      "order": null,
      "overflow": null,
      "overflow_x": null,
      "overflow_y": null,
      "padding": null,
      "right": null,
      "top": null,
      "visibility": null,
      "width": "20px"
     }
    },
    "0d10247987954e0c9f0d3cb88a72484d": {
     "model_module": "@jupyter-widgets/controls",
     "model_module_version": "1.5.0",
     "model_name": "DescriptionStyleModel",
     "state": {
      "_model_module": "@jupyter-widgets/controls",
      "_model_module_version": "1.5.0",
      "_model_name": "DescriptionStyleModel",
      "_view_count": null,
      "_view_module": "@jupyter-widgets/base",
      "_view_module_version": "1.2.0",
      "_view_name": "StyleView",
      "description_width": ""
     }
    },
    "12442843f9914fcfa67bc3e5c458ac3b": {
     "model_module": "@jupyter-widgets/base",
     "model_module_version": "1.2.0",
     "model_name": "LayoutModel",
     "state": {
      "_model_module": "@jupyter-widgets/base",
      "_model_module_version": "1.2.0",
      "_model_name": "LayoutModel",
      "_view_count": null,
      "_view_module": "@jupyter-widgets/base",
      "_view_module_version": "1.2.0",
      "_view_name": "LayoutView",
      "align_content": null,
      "align_items": null,
      "align_self": null,
      "border": null,
      "bottom": null,
      "display": null,
      "flex": null,
      "flex_flow": null,
      "grid_area": null,
      "grid_auto_columns": null,
      "grid_auto_flow": null,
      "grid_auto_rows": null,
      "grid_column": null,
      "grid_gap": null,
      "grid_row": null,
      "grid_template_areas": null,
      "grid_template_columns": null,
      "grid_template_rows": null,
      "height": null,
      "justify_content": null,
      "justify_items": null,
      "left": null,
      "margin": null,
      "max_height": null,
      "max_width": null,
      "min_height": null,
      "min_width": null,
      "object_fit": null,
      "object_position": null,
      "order": null,
      "overflow": null,
      "overflow_x": null,
      "overflow_y": null,
      "padding": null,
      "right": null,
      "top": null,
      "visibility": null,
      "width": null
     }
    },
    "18822608fa8848b982ad5563e2339765": {
     "model_module": "@jupyter-widgets/controls",
     "model_module_version": "1.5.0",
     "model_name": "DescriptionStyleModel",
     "state": {
      "_model_module": "@jupyter-widgets/controls",
      "_model_module_version": "1.5.0",
      "_model_name": "DescriptionStyleModel",
      "_view_count": null,
      "_view_module": "@jupyter-widgets/base",
      "_view_module_version": "1.2.0",
      "_view_name": "StyleView",
      "description_width": ""
     }
    },
    "1919fd96bd1f42beb56477b210f53c5e": {
     "model_module": "@jupyter-widgets/base",
     "model_module_version": "1.2.0",
     "model_name": "LayoutModel",
     "state": {
      "_model_module": "@jupyter-widgets/base",
      "_model_module_version": "1.2.0",
      "_model_name": "LayoutModel",
      "_view_count": null,
      "_view_module": "@jupyter-widgets/base",
      "_view_module_version": "1.2.0",
      "_view_name": "LayoutView",
      "align_content": null,
      "align_items": null,
      "align_self": null,
      "border": null,
      "bottom": null,
      "display": null,
      "flex": null,
      "flex_flow": null,
      "grid_area": null,
      "grid_auto_columns": null,
      "grid_auto_flow": null,
      "grid_auto_rows": null,
      "grid_column": null,
      "grid_gap": null,
      "grid_row": null,
      "grid_template_areas": null,
      "grid_template_columns": null,
      "grid_template_rows": null,
      "height": null,
      "justify_content": null,
      "justify_items": null,
      "left": null,
      "margin": null,
      "max_height": null,
      "max_width": null,
      "min_height": null,
      "min_width": null,
      "object_fit": null,
      "object_position": null,
      "order": null,
      "overflow": null,
      "overflow_x": null,
      "overflow_y": null,
      "padding": null,
      "right": null,
      "top": null,
      "visibility": null,
      "width": null
     }
    },
    "194b36ba7295445e9e7b50beacfe695e": {
     "model_module": "@jupyter-widgets/controls",
     "model_module_version": "1.5.0",
     "model_name": "HTMLModel",
     "state": {
      "_dom_classes": [],
      "_model_module": "@jupyter-widgets/controls",
      "_model_module_version": "1.5.0",
      "_model_name": "HTMLModel",
      "_view_count": null,
      "_view_module": "@jupyter-widgets/controls",
      "_view_module_version": "1.5.0",
      "_view_name": "HTMLView",
      "description": "",
      "description_tooltip": null,
      "layout": "IPY_MODEL_f5ad456915214b809c5b9f1d6b3fd5f2",
      "placeholder": "​",
      "style": "IPY_MODEL_572ddd66fef64fffbe09e518e82363e9",
      "value": " 481/481 [00:00&lt;00:00, 9.19kB/s]"
     }
    },
    "1b0640de6f3f415696b850e192a41abb": {
     "model_module": "@jupyter-widgets/controls",
     "model_module_version": "1.5.0",
     "model_name": "FloatProgressModel",
     "state": {
      "_dom_classes": [],
      "_model_module": "@jupyter-widgets/controls",
      "_model_module_version": "1.5.0",
      "_model_name": "FloatProgressModel",
      "_view_count": null,
      "_view_module": "@jupyter-widgets/controls",
      "_view_module_version": "1.5.0",
      "_view_name": "ProgressView",
      "bar_style": "success",
      "description": "",
      "description_tooltip": null,
      "layout": "IPY_MODEL_0c784a6b049d4a34b0fc3887cfcdf6a4",
      "max": 1,
      "min": 0,
      "orientation": "horizontal",
      "style": "IPY_MODEL_9ed2463e2b07418d9270b3d3e41cefbf",
      "value": 1
     }
    },
    "1fa49fa83f654ab4bd55dd12b61bebcc": {
     "model_module": "@jupyter-widgets/controls",
     "model_module_version": "1.5.0",
     "model_name": "FloatProgressModel",
     "state": {
      "_dom_classes": [],
      "_model_module": "@jupyter-widgets/controls",
      "_model_module_version": "1.5.0",
      "_model_name": "FloatProgressModel",
      "_view_count": null,
      "_view_module": "@jupyter-widgets/controls",
      "_view_module_version": "1.5.0",
      "_view_name": "ProgressView",
      "bar_style": "success",
      "description": "",
      "description_tooltip": null,
      "layout": "IPY_MODEL_2d3c94c131ea4811950e48f7ef920adf",
      "max": 481,
      "min": 0,
      "orientation": "horizontal",
      "style": "IPY_MODEL_98f2c68ae5604ca6b6105d848fd84568",
      "value": 481
     }
    },
    "25a3b44c532541d7916f09001dd06d4b": {
     "model_module": "@jupyter-widgets/controls",
     "model_module_version": "1.5.0",
     "model_name": "HTMLModel",
     "state": {
      "_dom_classes": [],
      "_model_module": "@jupyter-widgets/controls",
      "_model_module_version": "1.5.0",
      "_model_name": "HTMLModel",
      "_view_count": null,
      "_view_module": "@jupyter-widgets/controls",
      "_view_module_version": "1.5.0",
      "_view_name": "HTMLView",
      "description": "",
      "description_tooltip": null,
      "layout": "IPY_MODEL_b544dff49d2e4139b51e43c247604628",
      "placeholder": "​",
      "style": "IPY_MODEL_3f09e816819f4f289e9bf09621139de0",
      "value": " 456k/? [00:00&lt;00:00, 16.6MB/s]"
     }
    },
    "2c120561e48942d0893bbf0420d84930": {
     "model_module": "@jupyter-widgets/base",
     "model_module_version": "1.2.0",
     "model_name": "LayoutModel",
     "state": {
      "_model_module": "@jupyter-widgets/base",
      "_model_module_version": "1.2.0",
      "_model_name": "LayoutModel",
      "_view_count": null,
      "_view_module": "@jupyter-widgets/base",
      "_view_module_version": "1.2.0",
      "_view_name": "LayoutView",
      "align_content": null,
      "align_items": null,
      "align_self": null,
      "border": null,
      "bottom": null,
      "display": null,
      "flex": null,
      "flex_flow": null,
      "grid_area": null,
      "grid_auto_columns": null,
      "grid_auto_flow": null,
      "grid_auto_rows": null,
      "grid_column": null,
      "grid_gap": null,
      "grid_row": null,
      "grid_template_areas": null,
      "grid_template_columns": null,
      "grid_template_rows": null,
      "height": null,
      "justify_content": null,
      "justify_items": null,
      "left": null,
      "margin": null,
      "max_height": null,
      "max_width": null,
      "min_height": null,
      "min_width": null,
      "object_fit": null,
      "object_position": null,
      "order": null,
      "overflow": null,
      "overflow_x": null,
      "overflow_y": null,
      "padding": null,
      "right": null,
      "top": null,
      "visibility": null,
      "width": null
     }
    },
    "2c12c97b600b447db44d33d552ddcc88": {
     "model_module": "@jupyter-widgets/controls",
     "model_module_version": "1.5.0",
     "model_name": "ProgressStyleModel",
     "state": {
      "_model_module": "@jupyter-widgets/controls",
      "_model_module_version": "1.5.0",
      "_model_name": "ProgressStyleModel",
      "_view_count": null,
      "_view_module": "@jupyter-widgets/base",
      "_view_module_version": "1.2.0",
      "_view_name": "StyleView",
      "bar_color": null,
      "description_width": ""
     }
    },
    "2d3c94c131ea4811950e48f7ef920adf": {
     "model_module": "@jupyter-widgets/base",
     "model_module_version": "1.2.0",
     "model_name": "LayoutModel",
     "state": {
      "_model_module": "@jupyter-widgets/base",
      "_model_module_version": "1.2.0",
      "_model_name": "LayoutModel",
      "_view_count": null,
      "_view_module": "@jupyter-widgets/base",
      "_view_module_version": "1.2.0",
      "_view_name": "LayoutView",
      "align_content": null,
      "align_items": null,
      "align_self": null,
      "border": null,
      "bottom": null,
      "display": null,
      "flex": null,
      "flex_flow": null,
      "grid_area": null,
      "grid_auto_columns": null,
      "grid_auto_flow": null,
      "grid_auto_rows": null,
      "grid_column": null,
      "grid_gap": null,
      "grid_row": null,
      "grid_template_areas": null,
      "grid_template_columns": null,
      "grid_template_rows": null,
      "height": null,
      "justify_content": null,
      "justify_items": null,
      "left": null,
      "margin": null,
      "max_height": null,
      "max_width": null,
      "min_height": null,
      "min_width": null,
      "object_fit": null,
      "object_position": null,
      "order": null,
      "overflow": null,
      "overflow_x": null,
      "overflow_y": null,
      "padding": null,
      "right": null,
      "top": null,
      "visibility": null,
      "width": null
     }
    },
    "3227398e0c1f44debac6f990ed03ede4": {
     "model_module": "@jupyter-widgets/controls",
     "model_module_version": "1.5.0",
     "model_name": "DescriptionStyleModel",
     "state": {
      "_model_module": "@jupyter-widgets/controls",
      "_model_module_version": "1.5.0",
      "_model_name": "DescriptionStyleModel",
      "_view_count": null,
      "_view_module": "@jupyter-widgets/base",
      "_view_module_version": "1.2.0",
      "_view_name": "StyleView",
      "description_width": ""
     }
    },
    "35de89c1417c468faef4b6baa09f19ff": {
     "model_module": "@jupyter-widgets/controls",
     "model_module_version": "1.5.0",
     "model_name": "ProgressStyleModel",
     "state": {
      "_model_module": "@jupyter-widgets/controls",
      "_model_module_version": "1.5.0",
      "_model_name": "ProgressStyleModel",
      "_view_count": null,
      "_view_module": "@jupyter-widgets/base",
      "_view_module_version": "1.2.0",
      "_view_name": "StyleView",
      "bar_color": null,
      "description_width": ""
     }
    },
    "36bc53ced67347f4befecc63ab014184": {
     "model_module": "@jupyter-widgets/base",
     "model_module_version": "1.2.0",
     "model_name": "LayoutModel",
     "state": {
      "_model_module": "@jupyter-widgets/base",
      "_model_module_version": "1.2.0",
      "_model_name": "LayoutModel",
      "_view_count": null,
      "_view_module": "@jupyter-widgets/base",
      "_view_module_version": "1.2.0",
      "_view_name": "LayoutView",
      "align_content": null,
      "align_items": null,
      "align_self": null,
      "border": null,
      "bottom": null,
      "display": null,
      "flex": null,
      "flex_flow": null,
      "grid_area": null,
      "grid_auto_columns": null,
      "grid_auto_flow": null,
      "grid_auto_rows": null,
      "grid_column": null,
      "grid_gap": null,
      "grid_row": null,
      "grid_template_areas": null,
      "grid_template_columns": null,
      "grid_template_rows": null,
      "height": null,
      "justify_content": null,
      "justify_items": null,
      "left": null,
      "margin": null,
      "max_height": null,
      "max_width": null,
      "min_height": null,
      "min_width": null,
      "object_fit": null,
      "object_position": null,
      "order": null,
      "overflow": null,
      "overflow_x": null,
      "overflow_y": null,
      "padding": null,
      "right": null,
      "top": null,
      "visibility": null,
      "width": null
     }
    },
    "3792c94fb34f4c1d8ba407eff85a75b1": {
     "model_module": "@jupyter-widgets/controls",
     "model_module_version": "1.5.0",
     "model_name": "HTMLModel",
     "state": {
      "_dom_classes": [],
      "_model_module": "@jupyter-widgets/controls",
      "_model_module_version": "1.5.0",
      "_model_name": "HTMLModel",
      "_view_count": null,
      "_view_module": "@jupyter-widgets/controls",
      "_view_module_version": "1.5.0",
      "_view_name": "HTMLView",
      "description": "",
      "description_tooltip": null,
      "layout": "IPY_MODEL_694a524c1a8a492eb7398f03a757dd28",
      "placeholder": "​",
      "style": "IPY_MODEL_0d10247987954e0c9f0d3cb88a72484d",
      "value": "merges.txt: "
     }
    },
    "39e6a66244e04798a8a289ed4db1597d": {
     "model_module": "@jupyter-widgets/controls",
     "model_module_version": "1.5.0",
     "model_name": "HBoxModel",
     "state": {
      "_dom_classes": [],
      "_model_module": "@jupyter-widgets/controls",
      "_model_module_version": "1.5.0",
      "_model_name": "HBoxModel",
      "_view_count": null,
      "_view_module": "@jupyter-widgets/controls",
      "_view_module_version": "1.5.0",
      "_view_name": "HBoxView",
      "box_style": "",
      "children": [
       "IPY_MODEL_3792c94fb34f4c1d8ba407eff85a75b1",
       "IPY_MODEL_1b0640de6f3f415696b850e192a41abb",
       "IPY_MODEL_25a3b44c532541d7916f09001dd06d4b"
      ],
      "layout": "IPY_MODEL_7995bc3ec2f94f6baef862850e884a47"
     }
    },
    "3d706055d8104add817083dece6b150a": {
     "model_module": "@jupyter-widgets/base",
     "model_module_version": "1.2.0",
     "model_name": "LayoutModel",
     "state": {
      "_model_module": "@jupyter-widgets/base",
      "_model_module_version": "1.2.0",
      "_model_name": "LayoutModel",
      "_view_count": null,
      "_view_module": "@jupyter-widgets/base",
      "_view_module_version": "1.2.0",
      "_view_name": "LayoutView",
      "align_content": null,
      "align_items": null,
      "align_self": null,
      "border": null,
      "bottom": null,
      "display": null,
      "flex": null,
      "flex_flow": null,
      "grid_area": null,
      "grid_auto_columns": null,
      "grid_auto_flow": null,
      "grid_auto_rows": null,
      "grid_column": null,
      "grid_gap": null,
      "grid_row": null,
      "grid_template_areas": null,
      "grid_template_columns": null,
      "grid_template_rows": null,
      "height": null,
      "justify_content": null,
      "justify_items": null,
      "left": null,
      "margin": null,
      "max_height": null,
      "max_width": null,
      "min_height": null,
      "min_width": null,
      "object_fit": null,
      "object_position": null,
      "order": null,
      "overflow": null,
      "overflow_x": null,
      "overflow_y": null,
      "padding": null,
      "right": null,
      "top": null,
      "visibility": null,
      "width": null
     }
    },
    "3e1001334f734d3a870ec610cd383937": {
     "model_module": "@jupyter-widgets/base",
     "model_module_version": "1.2.0",
     "model_name": "LayoutModel",
     "state": {
      "_model_module": "@jupyter-widgets/base",
      "_model_module_version": "1.2.0",
      "_model_name": "LayoutModel",
      "_view_count": null,
      "_view_module": "@jupyter-widgets/base",
      "_view_module_version": "1.2.0",
      "_view_name": "LayoutView",
      "align_content": null,
      "align_items": null,
      "align_self": null,
      "border": null,
      "bottom": null,
      "display": null,
      "flex": null,
      "flex_flow": null,
      "grid_area": null,
      "grid_auto_columns": null,
      "grid_auto_flow": null,
      "grid_auto_rows": null,
      "grid_column": null,
      "grid_gap": null,
      "grid_row": null,
      "grid_template_areas": null,
      "grid_template_columns": null,
      "grid_template_rows": null,
      "height": null,
      "justify_content": null,
      "justify_items": null,
      "left": null,
      "margin": null,
      "max_height": null,
      "max_width": null,
      "min_height": null,
      "min_width": null,
      "object_fit": null,
      "object_position": null,
      "order": null,
      "overflow": null,
      "overflow_x": null,
      "overflow_y": null,
      "padding": null,
      "right": null,
      "top": null,
      "visibility": null,
      "width": null
     }
    },
    "3f09e816819f4f289e9bf09621139de0": {
     "model_module": "@jupyter-widgets/controls",
     "model_module_version": "1.5.0",
     "model_name": "DescriptionStyleModel",
     "state": {
      "_model_module": "@jupyter-widgets/controls",
      "_model_module_version": "1.5.0",
      "_model_name": "DescriptionStyleModel",
      "_view_count": null,
      "_view_module": "@jupyter-widgets/base",
      "_view_module_version": "1.2.0",
      "_view_name": "StyleView",
      "description_width": ""
     }
    },
    "3fca983553a24837ab181f59db937064": {
     "model_module": "@jupyter-widgets/controls",
     "model_module_version": "1.5.0",
     "model_name": "FloatProgressModel",
     "state": {
      "_dom_classes": [],
      "_model_module": "@jupyter-widgets/controls",
      "_model_module_version": "1.5.0",
      "_model_name": "FloatProgressModel",
      "_view_count": null,
      "_view_module": "@jupyter-widgets/controls",
      "_view_module_version": "1.5.0",
      "_view_name": "ProgressView",
      "bar_style": "success",
      "description": "",
      "description_tooltip": null,
      "layout": "IPY_MODEL_61329713ae24446a8fec58651c6fe8bd",
      "max": 1,
      "min": 0,
      "orientation": "horizontal",
      "style": "IPY_MODEL_35de89c1417c468faef4b6baa09f19ff",
      "value": 1
     }
    },
    "41a326ee38794444b044cf5e033acf23": {
     "model_module": "@jupyter-widgets/controls",
     "model_module_version": "1.5.0",
     "model_name": "DescriptionStyleModel",
     "state": {
      "_model_module": "@jupyter-widgets/controls",
      "_model_module_version": "1.5.0",
      "_model_name": "DescriptionStyleModel",
      "_view_count": null,
      "_view_module": "@jupyter-widgets/base",
      "_view_module_version": "1.2.0",
      "_view_name": "StyleView",
      "description_width": ""
     }
    },
    "4f035ec4247f41f596eee1f629c3954a": {
     "model_module": "@jupyter-widgets/controls",
     "model_module_version": "1.5.0",
     "model_name": "HTMLModel",
     "state": {
      "_dom_classes": [],
      "_model_module": "@jupyter-widgets/controls",
      "_model_module_version": "1.5.0",
      "_model_name": "HTMLModel",
      "_view_count": null,
      "_view_module": "@jupyter-widgets/controls",
      "_view_module_version": "1.5.0",
      "_view_name": "HTMLView",
      "description": "",
      "description_tooltip": null,
      "layout": "IPY_MODEL_3d706055d8104add817083dece6b150a",
      "placeholder": "​",
      "style": "IPY_MODEL_5af297a3b6414a93b54ebfb970551889",
      "value": "model.safetensors: 100%"
     }
    },
    "4f86e7cd7dc445668ac333983adf4301": {
     "model_module": "@jupyter-widgets/controls",
     "model_module_version": "1.5.0",
     "model_name": "HTMLModel",
     "state": {
      "_dom_classes": [],
      "_model_module": "@jupyter-widgets/controls",
      "_model_module_version": "1.5.0",
      "_model_name": "HTMLModel",
      "_view_count": null,
      "_view_module": "@jupyter-widgets/controls",
      "_view_module_version": "1.5.0",
      "_view_name": "HTMLView",
      "description": "",
      "description_tooltip": null,
      "layout": "IPY_MODEL_36bc53ced67347f4befecc63ab014184",
      "placeholder": "​",
      "style": "IPY_MODEL_eda8e8ebecd14d6ebf1841eeb8defa09",
      "value": " 499M/499M [00:10&lt;00:00, 83.3MB/s]"
     }
    },
    "51fd54c9f56744e083b05e0ad8a795a7": {
     "model_module": "@jupyter-widgets/controls",
     "model_module_version": "1.5.0",
     "model_name": "ProgressStyleModel",
     "state": {
      "_model_module": "@jupyter-widgets/controls",
      "_model_module_version": "1.5.0",
      "_model_name": "ProgressStyleModel",
      "_view_count": null,
      "_view_module": "@jupyter-widgets/base",
      "_view_module_version": "1.2.0",
      "_view_name": "StyleView",
      "bar_color": null,
      "description_width": ""
     }
    },
    "572ddd66fef64fffbe09e518e82363e9": {
     "model_module": "@jupyter-widgets/controls",
     "model_module_version": "1.5.0",
     "model_name": "DescriptionStyleModel",
     "state": {
      "_model_module": "@jupyter-widgets/controls",
      "_model_module_version": "1.5.0",
      "_model_name": "DescriptionStyleModel",
      "_view_count": null,
      "_view_module": "@jupyter-widgets/base",
      "_view_module_version": "1.2.0",
      "_view_name": "StyleView",
      "description_width": ""
     }
    },
    "57583968d5f7404db39eb138dc249076": {
     "model_module": "@jupyter-widgets/controls",
     "model_module_version": "1.5.0",
     "model_name": "DescriptionStyleModel",
     "state": {
      "_model_module": "@jupyter-widgets/controls",
      "_model_module_version": "1.5.0",
      "_model_name": "DescriptionStyleModel",
      "_view_count": null,
      "_view_module": "@jupyter-widgets/base",
      "_view_module_version": "1.2.0",
      "_view_name": "StyleView",
      "description_width": ""
     }
    },
    "579f0e92f13e43abbdde0f6c2e4b3b0c": {
     "model_module": "@jupyter-widgets/base",
     "model_module_version": "1.2.0",
     "model_name": "LayoutModel",
     "state": {
      "_model_module": "@jupyter-widgets/base",
      "_model_module_version": "1.2.0",
      "_model_name": "LayoutModel",
      "_view_count": null,
      "_view_module": "@jupyter-widgets/base",
      "_view_module_version": "1.2.0",
      "_view_name": "LayoutView",
      "align_content": null,
      "align_items": null,
      "align_self": null,
      "border": null,
      "bottom": null,
      "display": null,
      "flex": null,
      "flex_flow": null,
      "grid_area": null,
      "grid_auto_columns": null,
      "grid_auto_flow": null,
      "grid_auto_rows": null,
      "grid_column": null,
      "grid_gap": null,
      "grid_row": null,
      "grid_template_areas": null,
      "grid_template_columns": null,
      "grid_template_rows": null,
      "height": null,
      "justify_content": null,
      "justify_items": null,
      "left": null,
      "margin": null,
      "max_height": null,
      "max_width": null,
      "min_height": null,
      "min_width": null,
      "object_fit": null,
      "object_position": null,
      "order": null,
      "overflow": null,
      "overflow_x": null,
      "overflow_y": null,
      "padding": null,
      "right": null,
      "top": null,
      "visibility": null,
      "width": null
     }
    },
    "59cd1d3bb3614eef8eed5b250f27bf64": {
     "model_module": "@jupyter-widgets/base",
     "model_module_version": "1.2.0",
     "model_name": "LayoutModel",
     "state": {
      "_model_module": "@jupyter-widgets/base",
      "_model_module_version": "1.2.0",
      "_model_name": "LayoutModel",
      "_view_count": null,
      "_view_module": "@jupyter-widgets/base",
      "_view_module_version": "1.2.0",
      "_view_name": "LayoutView",
      "align_content": null,
      "align_items": null,
      "align_self": null,
      "border": null,
      "bottom": null,
      "display": null,
      "flex": null,
      "flex_flow": null,
      "grid_area": null,
      "grid_auto_columns": null,
      "grid_auto_flow": null,
      "grid_auto_rows": null,
      "grid_column": null,
      "grid_gap": null,
      "grid_row": null,
      "grid_template_areas": null,
      "grid_template_columns": null,
      "grid_template_rows": null,
      "height": null,
      "justify_content": null,
      "justify_items": null,
      "left": null,
      "margin": null,
      "max_height": null,
      "max_width": null,
      "min_height": null,
      "min_width": null,
      "object_fit": null,
      "object_position": null,
      "order": null,
      "overflow": null,
      "overflow_x": null,
      "overflow_y": null,
      "padding": null,
      "right": null,
      "top": null,
      "visibility": null,
      "width": null
     }
    },
    "5af297a3b6414a93b54ebfb970551889": {
     "model_module": "@jupyter-widgets/controls",
     "model_module_version": "1.5.0",
     "model_name": "DescriptionStyleModel",
     "state": {
      "_model_module": "@jupyter-widgets/controls",
      "_model_module_version": "1.5.0",
      "_model_name": "DescriptionStyleModel",
      "_view_count": null,
      "_view_module": "@jupyter-widgets/base",
      "_view_module_version": "1.2.0",
      "_view_name": "StyleView",
      "description_width": ""
     }
    },
    "61329713ae24446a8fec58651c6fe8bd": {
     "model_module": "@jupyter-widgets/base",
     "model_module_version": "1.2.0",
     "model_name": "LayoutModel",
     "state": {
      "_model_module": "@jupyter-widgets/base",
      "_model_module_version": "1.2.0",
      "_model_name": "LayoutModel",
      "_view_count": null,
      "_view_module": "@jupyter-widgets/base",
      "_view_module_version": "1.2.0",
      "_view_name": "LayoutView",
      "align_content": null,
      "align_items": null,
      "align_self": null,
      "border": null,
      "bottom": null,
      "display": null,
      "flex": null,
      "flex_flow": null,
      "grid_area": null,
      "grid_auto_columns": null,
      "grid_auto_flow": null,
      "grid_auto_rows": null,
      "grid_column": null,
      "grid_gap": null,
      "grid_row": null,
      "grid_template_areas": null,
      "grid_template_columns": null,
      "grid_template_rows": null,
      "height": null,
      "justify_content": null,
      "justify_items": null,
      "left": null,
      "margin": null,
      "max_height": null,
      "max_width": null,
      "min_height": null,
      "min_width": null,
      "object_fit": null,
      "object_position": null,
      "order": null,
      "overflow": null,
      "overflow_x": null,
      "overflow_y": null,
      "padding": null,
      "right": null,
      "top": null,
      "visibility": null,
      "width": "20px"
     }
    },
    "6851fa6317334625b777c7798dd9c3a1": {
     "model_module": "@jupyter-widgets/base",
     "model_module_version": "1.2.0",
     "model_name": "LayoutModel",
     "state": {
      "_model_module": "@jupyter-widgets/base",
      "_model_module_version": "1.2.0",
      "_model_name": "LayoutModel",
      "_view_count": null,
      "_view_module": "@jupyter-widgets/base",
      "_view_module_version": "1.2.0",
      "_view_name": "LayoutView",
      "align_content": null,
      "align_items": null,
      "align_self": null,
      "border": null,
      "bottom": null,
      "display": null,
      "flex": null,
      "flex_flow": null,
      "grid_area": null,
      "grid_auto_columns": null,
      "grid_auto_flow": null,
      "grid_auto_rows": null,
      "grid_column": null,
      "grid_gap": null,
      "grid_row": null,
      "grid_template_areas": null,
      "grid_template_columns": null,
      "grid_template_rows": null,
      "height": null,
      "justify_content": null,
      "justify_items": null,
      "left": null,
      "margin": null,
      "max_height": null,
      "max_width": null,
      "min_height": null,
      "min_width": null,
      "object_fit": null,
      "object_position": null,
      "order": null,
      "overflow": null,
      "overflow_x": null,
      "overflow_y": null,
      "padding": null,
      "right": null,
      "top": null,
      "visibility": null,
      "width": null
     }
    },
    "688efe223cff47ea954e8cb63a5f056f": {
     "model_module": "@jupyter-widgets/controls",
     "model_module_version": "1.5.0",
     "model_name": "FloatProgressModel",
     "state": {
      "_dom_classes": [],
      "_model_module": "@jupyter-widgets/controls",
      "_model_module_version": "1.5.0",
      "_model_name": "FloatProgressModel",
      "_view_count": null,
      "_view_module": "@jupyter-widgets/controls",
      "_view_module_version": "1.5.0",
      "_view_name": "ProgressView",
      "bar_style": "success",
      "description": "",
      "description_tooltip": null,
      "layout": "IPY_MODEL_2c120561e48942d0893bbf0420d84930",
      "max": 498818054,
      "min": 0,
      "orientation": "horizontal",
      "style": "IPY_MODEL_c2fecde7cc574878a04181fbc232b31f",
      "value": 498818054
     }
    },
    "694a524c1a8a492eb7398f03a757dd28": {
     "model_module": "@jupyter-widgets/base",
     "model_module_version": "1.2.0",
     "model_name": "LayoutModel",
     "state": {
      "_model_module": "@jupyter-widgets/base",
      "_model_module_version": "1.2.0",
      "_model_name": "LayoutModel",
      "_view_count": null,
      "_view_module": "@jupyter-widgets/base",
      "_view_module_version": "1.2.0",
      "_view_name": "LayoutView",
      "align_content": null,
      "align_items": null,
      "align_self": null,
      "border": null,
      "bottom": null,
      "display": null,
      "flex": null,
      "flex_flow": null,
      "grid_area": null,
      "grid_auto_columns": null,
      "grid_auto_flow": null,
      "grid_auto_rows": null,
      "grid_column": null,
      "grid_gap": null,
      "grid_row": null,
      "grid_template_areas": null,
      "grid_template_columns": null,
      "grid_template_rows": null,
      "height": null,
      "justify_content": null,
      "justify_items": null,
      "left": null,
      "margin": null,
      "max_height": null,
      "max_width": null,
      "min_height": null,
      "min_width": null,
      "object_fit": null,
      "object_position": null,
      "order": null,
      "overflow": null,
      "overflow_x": null,
      "overflow_y": null,
      "padding": null,
      "right": null,
      "top": null,
      "visibility": null,
      "width": null
     }
    },
    "7995bc3ec2f94f6baef862850e884a47": {
     "model_module": "@jupyter-widgets/base",
     "model_module_version": "1.2.0",
     "model_name": "LayoutModel",
     "state": {
      "_model_module": "@jupyter-widgets/base",
      "_model_module_version": "1.2.0",
      "_model_name": "LayoutModel",
      "_view_count": null,
      "_view_module": "@jupyter-widgets/base",
      "_view_module_version": "1.2.0",
      "_view_name": "LayoutView",
      "align_content": null,
      "align_items": null,
      "align_self": null,
      "border": null,
      "bottom": null,
      "display": null,
      "flex": null,
      "flex_flow": null,
      "grid_area": null,
      "grid_auto_columns": null,
      "grid_auto_flow": null,
      "grid_auto_rows": null,
      "grid_column": null,
      "grid_gap": null,
      "grid_row": null,
      "grid_template_areas": null,
      "grid_template_columns": null,
      "grid_template_rows": null,
      "height": null,
      "justify_content": null,
      "justify_items": null,
      "left": null,
      "margin": null,
      "max_height": null,
      "max_width": null,
      "min_height": null,
      "min_width": null,
      "object_fit": null,
      "object_position": null,
      "order": null,
      "overflow": null,
      "overflow_x": null,
      "overflow_y": null,
      "padding": null,
      "right": null,
      "top": null,
      "visibility": null,
      "width": null
     }
    },
    "7af0717d16db4b9094643e47dd22bbd1": {
     "model_module": "@jupyter-widgets/controls",
     "model_module_version": "1.5.0",
     "model_name": "HTMLModel",
     "state": {
      "_dom_classes": [],
      "_model_module": "@jupyter-widgets/controls",
      "_model_module_version": "1.5.0",
      "_model_name": "HTMLModel",
      "_view_count": null,
      "_view_module": "@jupyter-widgets/controls",
      "_view_module_version": "1.5.0",
      "_view_name": "HTMLView",
      "description": "",
      "description_tooltip": null,
      "layout": "IPY_MODEL_1919fd96bd1f42beb56477b210f53c5e",
      "placeholder": "​",
      "style": "IPY_MODEL_41a326ee38794444b044cf5e033acf23",
      "value": "vocab.json: "
     }
    },
    "83b9932eeae941f59df8bbd79868d435": {
     "model_module": "@jupyter-widgets/controls",
     "model_module_version": "1.5.0",
     "model_name": "HBoxModel",
     "state": {
      "_dom_classes": [],
      "_model_module": "@jupyter-widgets/controls",
      "_model_module_version": "1.5.0",
      "_model_name": "HBoxModel",
      "_view_count": null,
      "_view_module": "@jupyter-widgets/controls",
      "_view_module_version": "1.5.0",
      "_view_name": "HBoxView",
      "box_style": "",
      "children": [
       "IPY_MODEL_b9bccbf72ab0418baa0dde26c4c433dd",
       "IPY_MODEL_3fca983553a24837ab181f59db937064",
       "IPY_MODEL_a982b6d1df2f4207ba3e54382e337bed"
      ],
      "layout": "IPY_MODEL_ff347348a15f4e479bff6534d4e91024"
     }
    },
    "8485678d3a794c62b0443ef0b8f2611d": {
     "model_module": "@jupyter-widgets/controls",
     "model_module_version": "1.5.0",
     "model_name": "HTMLModel",
     "state": {
      "_dom_classes": [],
      "_model_module": "@jupyter-widgets/controls",
      "_model_module_version": "1.5.0",
      "_model_name": "HTMLModel",
      "_view_count": null,
      "_view_module": "@jupyter-widgets/controls",
      "_view_module_version": "1.5.0",
      "_view_name": "HTMLView",
      "description": "",
      "description_tooltip": null,
      "layout": "IPY_MODEL_579f0e92f13e43abbdde0f6c2e4b3b0c",
      "placeholder": "​",
      "style": "IPY_MODEL_b50bfc718193477d8573dc108136d654",
      "value": "config.json: 100%"
     }
    },
    "8787c30ef4084014ac47f3edc3cce425": {
     "model_module": "@jupyter-widgets/controls",
     "model_module_version": "1.5.0",
     "model_name": "HBoxModel",
     "state": {
      "_dom_classes": [],
      "_model_module": "@jupyter-widgets/controls",
      "_model_module_version": "1.5.0",
      "_model_name": "HBoxModel",
      "_view_count": null,
      "_view_module": "@jupyter-widgets/controls",
      "_view_module_version": "1.5.0",
      "_view_name": "HBoxView",
      "box_style": "",
      "children": [
       "IPY_MODEL_4f035ec4247f41f596eee1f629c3954a",
       "IPY_MODEL_688efe223cff47ea954e8cb63a5f056f",
       "IPY_MODEL_4f86e7cd7dc445668ac333983adf4301"
      ],
      "layout": "IPY_MODEL_12442843f9914fcfa67bc3e5c458ac3b"
     }
    },
    "92e1c8a1e3e0488eb41eeab92468d1ef": {
     "model_module": "@jupyter-widgets/controls",
     "model_module_version": "1.5.0",
     "model_name": "FloatProgressModel",
     "state": {
      "_dom_classes": [],
      "_model_module": "@jupyter-widgets/controls",
      "_model_module_version": "1.5.0",
      "_model_name": "FloatProgressModel",
      "_view_count": null,
      "_view_module": "@jupyter-widgets/controls",
      "_view_module_version": "1.5.0",
      "_view_name": "ProgressView",
      "bar_style": "success",
      "description": "",
      "description_tooltip": null,
      "layout": "IPY_MODEL_cfce3ec115044b19b70c60c76435874b",
      "max": 1,
      "min": 0,
      "orientation": "horizontal",
      "style": "IPY_MODEL_51fd54c9f56744e083b05e0ad8a795a7",
      "value": 1
     }
    },
    "9593e12063ca4a6fb2d4e41aa4144dba": {
     "model_module": "@jupyter-widgets/base",
     "model_module_version": "1.2.0",
     "model_name": "LayoutModel",
     "state": {
      "_model_module": "@jupyter-widgets/base",
      "_model_module_version": "1.2.0",
      "_model_name": "LayoutModel",
      "_view_count": null,
      "_view_module": "@jupyter-widgets/base",
      "_view_module_version": "1.2.0",
      "_view_name": "LayoutView",
      "align_content": null,
      "align_items": null,
      "align_self": null,
      "border": null,
      "bottom": null,
      "display": null,
      "flex": null,
      "flex_flow": null,
      "grid_area": null,
      "grid_auto_columns": null,
      "grid_auto_flow": null,
      "grid_auto_rows": null,
      "grid_column": null,
      "grid_gap": null,
      "grid_row": null,
      "grid_template_areas": null,
      "grid_template_columns": null,
      "grid_template_rows": null,
      "height": null,
      "justify_content": null,
      "justify_items": null,
      "left": null,
      "margin": null,
      "max_height": null,
      "max_width": null,
      "min_height": null,
      "min_width": null,
      "object_fit": null,
      "object_position": null,
      "order": null,
      "overflow": null,
      "overflow_x": null,
      "overflow_y": null,
      "padding": null,
      "right": null,
      "top": null,
      "visibility": null,
      "width": null
     }
    },
    "96351c8672714d31a50ffd57c97044d7": {
     "model_module": "@jupyter-widgets/controls",
     "model_module_version": "1.5.0",
     "model_name": "HTMLModel",
     "state": {
      "_dom_classes": [],
      "_model_module": "@jupyter-widgets/controls",
      "_model_module_version": "1.5.0",
      "_model_name": "HTMLModel",
      "_view_count": null,
      "_view_module": "@jupyter-widgets/controls",
      "_view_module_version": "1.5.0",
      "_view_name": "HTMLView",
      "description": "",
      "description_tooltip": null,
      "layout": "IPY_MODEL_d9335394ab874452849ee8ba92427264",
      "placeholder": "​",
      "style": "IPY_MODEL_eef53aa9b6a14389b97cda43da756b9d",
      "value": " 25.0/25.0 [00:00&lt;00:00, 1.12kB/s]"
     }
    },
    "9745f60b18084689bf40da99ef1264b9": {
     "model_module": "@jupyter-widgets/base",
     "model_module_version": "1.2.0",
     "model_name": "LayoutModel",
     "state": {
      "_model_module": "@jupyter-widgets/base",
      "_model_module_version": "1.2.0",
      "_model_name": "LayoutModel",
      "_view_count": null,
      "_view_module": "@jupyter-widgets/base",
      "_view_module_version": "1.2.0",
      "_view_name": "LayoutView",
      "align_content": null,
      "align_items": null,
      "align_self": null,
      "border": null,
      "bottom": null,
      "display": null,
      "flex": null,
      "flex_flow": null,
      "grid_area": null,
      "grid_auto_columns": null,
      "grid_auto_flow": null,
      "grid_auto_rows": null,
      "grid_column": null,
      "grid_gap": null,
      "grid_row": null,
      "grid_template_areas": null,
      "grid_template_columns": null,
      "grid_template_rows": null,
      "height": null,
      "justify_content": null,
      "justify_items": null,
      "left": null,
      "margin": null,
      "max_height": null,
      "max_width": null,
      "min_height": null,
      "min_width": null,
      "object_fit": null,
      "object_position": null,
      "order": null,
      "overflow": null,
      "overflow_x": null,
      "overflow_y": null,
      "padding": null,
      "right": null,
      "top": null,
      "visibility": null,
      "width": null
     }
    },
    "98f2c68ae5604ca6b6105d848fd84568": {
     "model_module": "@jupyter-widgets/controls",
     "model_module_version": "1.5.0",
     "model_name": "ProgressStyleModel",
     "state": {
      "_model_module": "@jupyter-widgets/controls",
      "_model_module_version": "1.5.0",
      "_model_name": "ProgressStyleModel",
      "_view_count": null,
      "_view_module": "@jupyter-widgets/base",
      "_view_module_version": "1.2.0",
      "_view_name": "StyleView",
      "bar_color": null,
      "description_width": ""
     }
    },
    "9943b0c3a59649bcb349f090c7580ad7": {
     "model_module": "@jupyter-widgets/controls",
     "model_module_version": "1.5.0",
     "model_name": "HBoxModel",
     "state": {
      "_dom_classes": [],
      "_model_module": "@jupyter-widgets/controls",
      "_model_module_version": "1.5.0",
      "_model_name": "HBoxModel",
      "_view_count": null,
      "_view_module": "@jupyter-widgets/controls",
      "_view_module_version": "1.5.0",
      "_view_name": "HBoxView",
      "box_style": "",
      "children": [
       "IPY_MODEL_8485678d3a794c62b0443ef0b8f2611d",
       "IPY_MODEL_1fa49fa83f654ab4bd55dd12b61bebcc",
       "IPY_MODEL_194b36ba7295445e9e7b50beacfe695e"
      ],
      "layout": "IPY_MODEL_59cd1d3bb3614eef8eed5b250f27bf64"
     }
    },
    "9dec990790f747d8ac344877e4dc8fc7": {
     "model_module": "@jupyter-widgets/base",
     "model_module_version": "1.2.0",
     "model_name": "LayoutModel",
     "state": {
      "_model_module": "@jupyter-widgets/base",
      "_model_module_version": "1.2.0",
      "_model_name": "LayoutModel",
      "_view_count": null,
      "_view_module": "@jupyter-widgets/base",
      "_view_module_version": "1.2.0",
      "_view_name": "LayoutView",
      "align_content": null,
      "align_items": null,
      "align_self": null,
      "border": null,
      "bottom": null,
      "display": null,
      "flex": null,
      "flex_flow": null,
      "grid_area": null,
      "grid_auto_columns": null,
      "grid_auto_flow": null,
      "grid_auto_rows": null,
      "grid_column": null,
      "grid_gap": null,
      "grid_row": null,
      "grid_template_areas": null,
      "grid_template_columns": null,
      "grid_template_rows": null,
      "height": null,
      "justify_content": null,
      "justify_items": null,
      "left": null,
      "margin": null,
      "max_height": null,
      "max_width": null,
      "min_height": null,
      "min_width": null,
      "object_fit": null,
      "object_position": null,
      "order": null,
      "overflow": null,
      "overflow_x": null,
      "overflow_y": null,
      "padding": null,
      "right": null,
      "top": null,
      "visibility": null,
      "width": null
     }
    },
    "9ed2463e2b07418d9270b3d3e41cefbf": {
     "model_module": "@jupyter-widgets/controls",
     "model_module_version": "1.5.0",
     "model_name": "ProgressStyleModel",
     "state": {
      "_model_module": "@jupyter-widgets/controls",
      "_model_module_version": "1.5.0",
      "_model_name": "ProgressStyleModel",
      "_view_count": null,
      "_view_module": "@jupyter-widgets/base",
      "_view_module_version": "1.2.0",
      "_view_name": "StyleView",
      "bar_color": null,
      "description_width": ""
     }
    },
    "a1490bf633dc4a4491ed8128c9db7271": {
     "model_module": "@jupyter-widgets/base",
     "model_module_version": "1.2.0",
     "model_name": "LayoutModel",
     "state": {
      "_model_module": "@jupyter-widgets/base",
      "_model_module_version": "1.2.0",
      "_model_name": "LayoutModel",
      "_view_count": null,
      "_view_module": "@jupyter-widgets/base",
      "_view_module_version": "1.2.0",
      "_view_name": "LayoutView",
      "align_content": null,
      "align_items": null,
      "align_self": null,
      "border": null,
      "bottom": null,
      "display": null,
      "flex": null,
      "flex_flow": null,
      "grid_area": null,
      "grid_auto_columns": null,
      "grid_auto_flow": null,
      "grid_auto_rows": null,
      "grid_column": null,
      "grid_gap": null,
      "grid_row": null,
      "grid_template_areas": null,
      "grid_template_columns": null,
      "grid_template_rows": null,
      "height": null,
      "justify_content": null,
      "justify_items": null,
      "left": null,
      "margin": null,
      "max_height": null,
      "max_width": null,
      "min_height": null,
      "min_width": null,
      "object_fit": null,
      "object_position": null,
      "order": null,
      "overflow": null,
      "overflow_x": null,
      "overflow_y": null,
      "padding": null,
      "right": null,
      "top": null,
      "visibility": null,
      "width": null
     }
    },
    "a3b9dadf5df740a2a2d02a354f7ce249": {
     "model_module": "@jupyter-widgets/controls",
     "model_module_version": "1.5.0",
     "model_name": "HBoxModel",
     "state": {
      "_dom_classes": [],
      "_model_module": "@jupyter-widgets/controls",
      "_model_module_version": "1.5.0",
      "_model_name": "HBoxModel",
      "_view_count": null,
      "_view_module": "@jupyter-widgets/controls",
      "_view_module_version": "1.5.0",
      "_view_name": "HBoxView",
      "box_style": "",
      "children": [
       "IPY_MODEL_7af0717d16db4b9094643e47dd22bbd1",
       "IPY_MODEL_92e1c8a1e3e0488eb41eeab92468d1ef",
       "IPY_MODEL_e9591fa931ef4dbda0ec1b477a9217ca"
      ],
      "layout": "IPY_MODEL_6851fa6317334625b777c7798dd9c3a1"
     }
    },
    "a982b6d1df2f4207ba3e54382e337bed": {
     "model_module": "@jupyter-widgets/controls",
     "model_module_version": "1.5.0",
     "model_name": "HTMLModel",
     "state": {
      "_dom_classes": [],
      "_model_module": "@jupyter-widgets/controls",
      "_model_module_version": "1.5.0",
      "_model_name": "HTMLModel",
      "_view_count": null,
      "_view_module": "@jupyter-widgets/controls",
      "_view_module_version": "1.5.0",
      "_view_name": "HTMLView",
      "description": "",
      "description_tooltip": null,
      "layout": "IPY_MODEL_9593e12063ca4a6fb2d4e41aa4144dba",
      "placeholder": "​",
      "style": "IPY_MODEL_57583968d5f7404db39eb138dc249076",
      "value": " 1.36M/? [00:00&lt;00:00, 16.9MB/s]"
     }
    },
    "b212d6b573494cb6ae68f245381a7be0": {
     "model_module": "@jupyter-widgets/controls",
     "model_module_version": "1.5.0",
     "model_name": "HBoxModel",
     "state": {
      "_dom_classes": [],
      "_model_module": "@jupyter-widgets/controls",
      "_model_module_version": "1.5.0",
      "_model_name": "HBoxModel",
      "_view_count": null,
      "_view_module": "@jupyter-widgets/controls",
      "_view_module_version": "1.5.0",
      "_view_name": "HBoxView",
      "box_style": "",
      "children": [
       "IPY_MODEL_c4466f2a795a42e0992c1632e88ab6b5",
       "IPY_MODEL_e9a30a412d9b4122acd91cad7d862b90",
       "IPY_MODEL_96351c8672714d31a50ffd57c97044d7"
      ],
      "layout": "IPY_MODEL_a1490bf633dc4a4491ed8128c9db7271"
     }
    },
    "b50bfc718193477d8573dc108136d654": {
     "model_module": "@jupyter-widgets/controls",
     "model_module_version": "1.5.0",
     "model_name": "DescriptionStyleModel",
     "state": {
      "_model_module": "@jupyter-widgets/controls",
      "_model_module_version": "1.5.0",
      "_model_name": "DescriptionStyleModel",
      "_view_count": null,
      "_view_module": "@jupyter-widgets/base",
      "_view_module_version": "1.2.0",
      "_view_name": "StyleView",
      "description_width": ""
     }
    },
    "b544dff49d2e4139b51e43c247604628": {
     "model_module": "@jupyter-widgets/base",
     "model_module_version": "1.2.0",
     "model_name": "LayoutModel",
     "state": {
      "_model_module": "@jupyter-widgets/base",
      "_model_module_version": "1.2.0",
      "_model_name": "LayoutModel",
      "_view_count": null,
      "_view_module": "@jupyter-widgets/base",
      "_view_module_version": "1.2.0",
      "_view_name": "LayoutView",
      "align_content": null,
      "align_items": null,
      "align_self": null,
      "border": null,
      "bottom": null,
      "display": null,
      "flex": null,
      "flex_flow": null,
      "grid_area": null,
      "grid_auto_columns": null,
      "grid_auto_flow": null,
      "grid_auto_rows": null,
      "grid_column": null,
      "grid_gap": null,
      "grid_row": null,
      "grid_template_areas": null,
      "grid_template_columns": null,
      "grid_template_rows": null,
      "height": null,
      "justify_content": null,
      "justify_items": null,
      "left": null,
      "margin": null,
      "max_height": null,
      "max_width": null,
      "min_height": null,
      "min_width": null,
      "object_fit": null,
      "object_position": null,
      "order": null,
      "overflow": null,
      "overflow_x": null,
      "overflow_y": null,
      "padding": null,
      "right": null,
      "top": null,
      "visibility": null,
      "width": null
     }
    },
    "b7287dba086840098204cdc1ae276c29": {
     "model_module": "@jupyter-widgets/base",
     "model_module_version": "1.2.0",
     "model_name": "LayoutModel",
     "state": {
      "_model_module": "@jupyter-widgets/base",
      "_model_module_version": "1.2.0",
      "_model_name": "LayoutModel",
      "_view_count": null,
      "_view_module": "@jupyter-widgets/base",
      "_view_module_version": "1.2.0",
      "_view_name": "LayoutView",
      "align_content": null,
      "align_items": null,
      "align_self": null,
      "border": null,
      "bottom": null,
      "display": null,
      "flex": null,
      "flex_flow": null,
      "grid_area": null,
      "grid_auto_columns": null,
      "grid_auto_flow": null,
      "grid_auto_rows": null,
      "grid_column": null,
      "grid_gap": null,
      "grid_row": null,
      "grid_template_areas": null,
      "grid_template_columns": null,
      "grid_template_rows": null,
      "height": null,
      "justify_content": null,
      "justify_items": null,
      "left": null,
      "margin": null,
      "max_height": null,
      "max_width": null,
      "min_height": null,
      "min_width": null,
      "object_fit": null,
      "object_position": null,
      "order": null,
      "overflow": null,
      "overflow_x": null,
      "overflow_y": null,
      "padding": null,
      "right": null,
      "top": null,
      "visibility": null,
      "width": null
     }
    },
    "b9bccbf72ab0418baa0dde26c4c433dd": {
     "model_module": "@jupyter-widgets/controls",
     "model_module_version": "1.5.0",
     "model_name": "HTMLModel",
     "state": {
      "_dom_classes": [],
      "_model_module": "@jupyter-widgets/controls",
      "_model_module_version": "1.5.0",
      "_model_name": "HTMLModel",
      "_view_count": null,
      "_view_module": "@jupyter-widgets/controls",
      "_view_module_version": "1.5.0",
      "_view_name": "HTMLView",
      "description": "",
      "description_tooltip": null,
      "layout": "IPY_MODEL_9745f60b18084689bf40da99ef1264b9",
      "placeholder": "​",
      "style": "IPY_MODEL_18822608fa8848b982ad5563e2339765",
      "value": "tokenizer.json: "
     }
    },
    "c2fecde7cc574878a04181fbc232b31f": {
     "model_module": "@jupyter-widgets/controls",
     "model_module_version": "1.5.0",
     "model_name": "ProgressStyleModel",
     "state": {
      "_model_module": "@jupyter-widgets/controls",
      "_model_module_version": "1.5.0",
      "_model_name": "ProgressStyleModel",
      "_view_count": null,
      "_view_module": "@jupyter-widgets/base",
      "_view_module_version": "1.2.0",
      "_view_name": "StyleView",
      "bar_color": null,
      "description_width": ""
     }
    },
    "c4466f2a795a42e0992c1632e88ab6b5": {
     "model_module": "@jupyter-widgets/controls",
     "model_module_version": "1.5.0",
     "model_name": "HTMLModel",
     "state": {
      "_dom_classes": [],
      "_model_module": "@jupyter-widgets/controls",
      "_model_module_version": "1.5.0",
      "_model_name": "HTMLModel",
      "_view_count": null,
      "_view_module": "@jupyter-widgets/controls",
      "_view_module_version": "1.5.0",
      "_view_name": "HTMLView",
      "description": "",
      "description_tooltip": null,
      "layout": "IPY_MODEL_b7287dba086840098204cdc1ae276c29",
      "placeholder": "​",
      "style": "IPY_MODEL_fd0d9bc975fc4ddea99ac813eb1fab16",
      "value": "tokenizer_config.json: 100%"
     }
    },
    "cfce3ec115044b19b70c60c76435874b": {
     "model_module": "@jupyter-widgets/base",
     "model_module_version": "1.2.0",
     "model_name": "LayoutModel",
     "state": {
      "_model_module": "@jupyter-widgets/base",
      "_model_module_version": "1.2.0",
      "_model_name": "LayoutModel",
      "_view_count": null,
      "_view_module": "@jupyter-widgets/base",
      "_view_module_version": "1.2.0",
      "_view_name": "LayoutView",
      "align_content": null,
      "align_items": null,
      "align_self": null,
      "border": null,
      "bottom": null,
      "display": null,
      "flex": null,
      "flex_flow": null,
      "grid_area": null,
      "grid_auto_columns": null,
      "grid_auto_flow": null,
      "grid_auto_rows": null,
      "grid_column": null,
      "grid_gap": null,
      "grid_row": null,
      "grid_template_areas": null,
      "grid_template_columns": null,
      "grid_template_rows": null,
      "height": null,
      "justify_content": null,
      "justify_items": null,
      "left": null,
      "margin": null,
      "max_height": null,
      "max_width": null,
      "min_height": null,
      "min_width": null,
      "object_fit": null,
      "object_position": null,
      "order": null,
      "overflow": null,
      "overflow_x": null,
      "overflow_y": null,
      "padding": null,
      "right": null,
      "top": null,
      "visibility": null,
      "width": "20px"
     }
    },
    "d9335394ab874452849ee8ba92427264": {
     "model_module": "@jupyter-widgets/base",
     "model_module_version": "1.2.0",
     "model_name": "LayoutModel",
     "state": {
      "_model_module": "@jupyter-widgets/base",
      "_model_module_version": "1.2.0",
      "_model_name": "LayoutModel",
      "_view_count": null,
      "_view_module": "@jupyter-widgets/base",
      "_view_module_version": "1.2.0",
      "_view_name": "LayoutView",
      "align_content": null,
      "align_items": null,
      "align_self": null,
      "border": null,
      "bottom": null,
      "display": null,
      "flex": null,
      "flex_flow": null,
      "grid_area": null,
      "grid_auto_columns": null,
      "grid_auto_flow": null,
      "grid_auto_rows": null,
      "grid_column": null,
      "grid_gap": null,
      "grid_row": null,
      "grid_template_areas": null,
      "grid_template_columns": null,
      "grid_template_rows": null,
      "height": null,
      "justify_content": null,
      "justify_items": null,
      "left": null,
      "margin": null,
      "max_height": null,
      "max_width": null,
      "min_height": null,
      "min_width": null,
      "object_fit": null,
      "object_position": null,
      "order": null,
      "overflow": null,
      "overflow_x": null,
      "overflow_y": null,
      "padding": null,
      "right": null,
      "top": null,
      "visibility": null,
      "width": null
     }
    },
    "e9591fa931ef4dbda0ec1b477a9217ca": {
     "model_module": "@jupyter-widgets/controls",
     "model_module_version": "1.5.0",
     "model_name": "HTMLModel",
     "state": {
      "_dom_classes": [],
      "_model_module": "@jupyter-widgets/controls",
      "_model_module_version": "1.5.0",
      "_model_name": "HTMLModel",
      "_view_count": null,
      "_view_module": "@jupyter-widgets/controls",
      "_view_module_version": "1.5.0",
      "_view_name": "HTMLView",
      "description": "",
      "description_tooltip": null,
      "layout": "IPY_MODEL_9dec990790f747d8ac344877e4dc8fc7",
      "placeholder": "​",
      "style": "IPY_MODEL_3227398e0c1f44debac6f990ed03ede4",
      "value": " 899k/? [00:00&lt;00:00, 11.8MB/s]"
     }
    },
    "e9a30a412d9b4122acd91cad7d862b90": {
     "model_module": "@jupyter-widgets/controls",
     "model_module_version": "1.5.0",
     "model_name": "FloatProgressModel",
     "state": {
      "_dom_classes": [],
      "_model_module": "@jupyter-widgets/controls",
      "_model_module_version": "1.5.0",
      "_model_name": "FloatProgressModel",
      "_view_count": null,
      "_view_module": "@jupyter-widgets/controls",
      "_view_module_version": "1.5.0",
      "_view_name": "ProgressView",
      "bar_style": "success",
      "description": "",
      "description_tooltip": null,
      "layout": "IPY_MODEL_3e1001334f734d3a870ec610cd383937",
      "max": 25,
      "min": 0,
      "orientation": "horizontal",
      "style": "IPY_MODEL_2c12c97b600b447db44d33d552ddcc88",
      "value": 25
     }
    },
    "eda8e8ebecd14d6ebf1841eeb8defa09": {
     "model_module": "@jupyter-widgets/controls",
     "model_module_version": "1.5.0",
     "model_name": "DescriptionStyleModel",
     "state": {
      "_model_module": "@jupyter-widgets/controls",
      "_model_module_version": "1.5.0",
      "_model_name": "DescriptionStyleModel",
      "_view_count": null,
      "_view_module": "@jupyter-widgets/base",
      "_view_module_version": "1.2.0",
      "_view_name": "StyleView",
      "description_width": ""
     }
    },
    "eef53aa9b6a14389b97cda43da756b9d": {
     "model_module": "@jupyter-widgets/controls",
     "model_module_version": "1.5.0",
     "model_name": "DescriptionStyleModel",
     "state": {
      "_model_module": "@jupyter-widgets/controls",
      "_model_module_version": "1.5.0",
      "_model_name": "DescriptionStyleModel",
      "_view_count": null,
      "_view_module": "@jupyter-widgets/base",
      "_view_module_version": "1.2.0",
      "_view_name": "StyleView",
      "description_width": ""
     }
    },
    "f5ad456915214b809c5b9f1d6b3fd5f2": {
     "model_module": "@jupyter-widgets/base",
     "model_module_version": "1.2.0",
     "model_name": "LayoutModel",
     "state": {
      "_model_module": "@jupyter-widgets/base",
      "_model_module_version": "1.2.0",
      "_model_name": "LayoutModel",
      "_view_count": null,
      "_view_module": "@jupyter-widgets/base",
      "_view_module_version": "1.2.0",
      "_view_name": "LayoutView",
      "align_content": null,
      "align_items": null,
      "align_self": null,
      "border": null,
      "bottom": null,
      "display": null,
      "flex": null,
      "flex_flow": null,
      "grid_area": null,
      "grid_auto_columns": null,
      "grid_auto_flow": null,
      "grid_auto_rows": null,
      "grid_column": null,
      "grid_gap": null,
      "grid_row": null,
      "grid_template_areas": null,
      "grid_template_columns": null,
      "grid_template_rows": null,
      "height": null,
      "justify_content": null,
      "justify_items": null,
      "left": null,
      "margin": null,
      "max_height": null,
      "max_width": null,
      "min_height": null,
      "min_width": null,
      "object_fit": null,
      "object_position": null,
      "order": null,
      "overflow": null,
      "overflow_x": null,
      "overflow_y": null,
      "padding": null,
      "right": null,
      "top": null,
      "visibility": null,
      "width": null
     }
    },
    "fd0d9bc975fc4ddea99ac813eb1fab16": {
     "model_module": "@jupyter-widgets/controls",
     "model_module_version": "1.5.0",
     "model_name": "DescriptionStyleModel",
     "state": {
      "_model_module": "@jupyter-widgets/controls",
      "_model_module_version": "1.5.0",
      "_model_name": "DescriptionStyleModel",
      "_view_count": null,
      "_view_module": "@jupyter-widgets/base",
      "_view_module_version": "1.2.0",
      "_view_name": "StyleView",
      "description_width": ""
     }
    },
    "ff347348a15f4e479bff6534d4e91024": {
     "model_module": "@jupyter-widgets/base",
     "model_module_version": "1.2.0",
     "model_name": "LayoutModel",
     "state": {
      "_model_module": "@jupyter-widgets/base",
      "_model_module_version": "1.2.0",
      "_model_name": "LayoutModel",
      "_view_count": null,
      "_view_module": "@jupyter-widgets/base",
      "_view_module_version": "1.2.0",
      "_view_name": "LayoutView",
      "align_content": null,
      "align_items": null,
      "align_self": null,
      "border": null,
      "bottom": null,
      "display": null,
      "flex": null,
      "flex_flow": null,
      "grid_area": null,
      "grid_auto_columns": null,
      "grid_auto_flow": null,
      "grid_auto_rows": null,
      "grid_column": null,
      "grid_gap": null,
      "grid_row": null,
      "grid_template_areas": null,
      "grid_template_columns": null,
      "grid_template_rows": null,
      "height": null,
      "justify_content": null,
      "justify_items": null,
      "left": null,
      "margin": null,
      "max_height": null,
      "max_width": null,
      "min_height": null,
      "min_width": null,
      "object_fit": null,
      "object_position": null,
      "order": null,
      "overflow": null,
      "overflow_x": null,
      "overflow_y": null,
      "padding": null,
      "right": null,
      "top": null,
      "visibility": null,
      "width": null
     }
    }
   }
  }
 },
 "nbformat": 4,
 "nbformat_minor": 5
}
